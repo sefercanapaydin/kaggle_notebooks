{
 "cells": [
  {
   "cell_type": "markdown",
   "id": "79ee07eb",
   "metadata": {
    "papermill": {
     "duration": 0.00668,
     "end_time": "2023-03-28T15:17:52.574689",
     "exception": false,
     "start_time": "2023-03-28T15:17:52.568009",
     "status": "completed"
    },
    "tags": []
   },
   "source": [
    "![](https://i.ytimg.com/vi/iPxZIp0cbJE/maxresdefault.jpg)"
   ]
  },
  {
   "cell_type": "markdown",
   "id": "5f630fb6",
   "metadata": {
    "papermill": {
     "duration": 0.005046,
     "end_time": "2023-03-28T15:17:52.585352",
     "exception": false,
     "start_time": "2023-03-28T15:17:52.580306",
     "status": "completed"
    },
    "tags": []
   },
   "source": [
    "# Introduction"
   ]
  },
  {
   "cell_type": "markdown",
   "id": "db353ff6",
   "metadata": {
    "papermill": {
     "duration": 0.005112,
     "end_time": "2023-03-28T15:17:52.596187",
     "exception": false,
     "start_time": "2023-03-28T15:17:52.591075",
     "status": "completed"
    },
    "tags": []
   },
   "source": [
    "This dataset is from a DataCamp project: https://www.datacamp.com/projects/184.\n",
    "### Project Description from DataCamp\n",
    "\n",
    "Cookie Cats is a hugely popular mobile puzzle game developed by Tactile Entertainment. It's a classic \"connect three\" style puzzle game where the player must connect tiles of the same color in order to clear the board and win the level. It also features singing cats. We're not kidding!\n",
    "\n",
    "As players progress through the game they will encounter gates that force them to wait some time before they can progress or make an in-app purchase. In this project, we will analyze the result of an A/B test where the first gate in Cookie Cats was moved from level 30 to level 40. In particular, we will analyze the impact on player retention and game rounds.\n",
    "\n",
    "To complete this project, you should be comfortable working with pandas DataFrames and with using the pandas plot method. You should also have some understanding of hypothesis testing and bootstrap analysis."
   ]
  },
  {
   "cell_type": "markdown",
   "id": "5e55d2f1",
   "metadata": {
    "papermill": {
     "duration": 0.005025,
     "end_time": "2023-03-28T15:17:52.606588",
     "exception": false,
     "start_time": "2023-03-28T15:17:52.601563",
     "status": "completed"
    },
    "tags": []
   },
   "source": [
    " ## Dataset Story\n",
    "* userid: A unique number that identifies each player.\n",
    "\n",
    "* version: Whether the player was put in the control group (gate_30 - a gate at level 30) or the group with the moved gate (gate_40 - a gate at level 40).\n",
    "\n",
    "* sum_gamerounds: The number of game rounds played by the player during the first 14 days after install.\n",
    "\n",
    "* retention_1: Did the player come back and play 1 day after installing?\n",
    "\n",
    "* retention_7: Did the player come back and play 7 days after installing?"
   ]
  },
  {
   "cell_type": "markdown",
   "id": "b856f05e",
   "metadata": {
    "papermill": {
     "duration": 0.004992,
     "end_time": "2023-03-28T15:17:52.616933",
     "exception": false,
     "start_time": "2023-03-28T15:17:52.611941",
     "status": "completed"
    },
    "tags": []
   },
   "source": [
    "# Importing necessary libraries and settings"
   ]
  },
  {
   "cell_type": "code",
   "execution_count": 1,
   "id": "69ca70eb",
   "metadata": {
    "_cell_guid": "b1076dfc-b9ad-4769-8c92-a6c4dae69d19",
    "_uuid": "8f2839f25d086af736a60e9eeb907d3b93b6e0e5",
    "execution": {
     "iopub.execute_input": "2023-03-28T15:17:52.630054Z",
     "iopub.status.busy": "2023-03-28T15:17:52.629481Z",
     "iopub.status.idle": "2023-03-28T15:17:54.152002Z",
     "shell.execute_reply": "2023-03-28T15:17:54.150526Z"
    },
    "papermill": {
     "duration": 1.532792,
     "end_time": "2023-03-28T15:17:54.155017",
     "exception": false,
     "start_time": "2023-03-28T15:17:52.622225",
     "status": "completed"
    },
    "tags": []
   },
   "outputs": [
    {
     "name": "stdout",
     "output_type": "stream",
     "text": [
      "/kaggle/input/mobile-games-ab-testing/cookie_cats.csv\n"
     ]
    }
   ],
   "source": [
    "import itertools\n",
    "import numpy as np\n",
    "import pandas as pd\n",
    "import matplotlib.pyplot as plt\n",
    "import seaborn as sns\n",
    "# !pip install statsmodels\n",
    "import statsmodels.stats.api as sms\n",
    "from scipy.stats import ttest_1samp, shapiro, levene, ttest_ind, mannwhitneyu, \\\n",
    "    pearsonr, spearmanr, kendalltau, f_oneway, kruskal\n",
    "from statsmodels.stats.proportion import proportions_ztest\n",
    "import scipy.stats as stats\n",
    "\n",
    "pd.set_option('display.max_columns', None)\n",
    "pd.set_option('display.max_rows', None)\n",
    "pd.set_option('display.float_format', lambda x: '%.5f' % x)\n",
    "pd.set_option('display.width', 500)\n",
    "import os\n",
    "for dirname, _, filenames in os.walk('/kaggle/input'):\n",
    "    for filename in filenames:\n",
    "        print(os.path.join(dirname, filename))"
   ]
  },
  {
   "cell_type": "markdown",
   "id": "b49fc202",
   "metadata": {
    "papermill": {
     "duration": 0.005114,
     "end_time": "2023-03-28T15:17:54.165732",
     "exception": false,
     "start_time": "2023-03-28T15:17:54.160618",
     "status": "completed"
    },
    "tags": []
   },
   "source": [
    "# Reading & Understanding Dataset"
   ]
  },
  {
   "cell_type": "code",
   "execution_count": 2,
   "id": "5a43d301",
   "metadata": {
    "execution": {
     "iopub.execute_input": "2023-03-28T15:17:54.178493Z",
     "iopub.status.busy": "2023-03-28T15:17:54.178020Z",
     "iopub.status.idle": "2023-03-28T15:17:54.368033Z",
     "shell.execute_reply": "2023-03-28T15:17:54.366363Z"
    },
    "papermill": {
     "duration": 0.199348,
     "end_time": "2023-03-28T15:17:54.370583",
     "exception": false,
     "start_time": "2023-03-28T15:17:54.171235",
     "status": "completed"
    },
    "tags": []
   },
   "outputs": [
    {
     "name": "stdout",
     "output_type": "stream",
     "text": [
      "##################### First 10 Observations #####################\n",
      "   userid  version  sum_gamerounds  retention_1  retention_7\n",
      "0     116  gate_30               3        False        False\n",
      "1     337  gate_30              38         True        False\n",
      "2     377  gate_40             165         True        False\n",
      "3     483  gate_40               1        False        False\n",
      "4     488  gate_40             179         True         True\n",
      "5     540  gate_40             187         True         True\n",
      "6    1066  gate_30               0        False        False\n",
      "7    1444  gate_40               2        False        False\n",
      "8    1574  gate_40             108         True         True\n",
      "9    1587  gate_40             153         True        False\n",
      "##################### Column names #####################\n",
      "<class 'pandas.core.frame.DataFrame'>\n",
      "RangeIndex: 90189 entries, 0 to 90188\n",
      "Data columns (total 5 columns):\n",
      " #   Column          Non-Null Count  Dtype \n",
      "---  ------          --------------  ----- \n",
      " 0   userid          90189 non-null  int64 \n",
      " 1   version         90189 non-null  object\n",
      " 2   sum_gamerounds  90189 non-null  int64 \n",
      " 3   retention_1     90189 non-null  bool  \n",
      " 4   retention_7     90189 non-null  bool  \n",
      "dtypes: bool(2), int64(2), object(1)\n",
      "memory usage: 2.2+ MB\n",
      "None\n",
      "##################### Shape #####################\n",
      "(90189, 5)\n",
      "##################### Quantiles #####################\n",
      "                     count          mean           std       min        0%           5%           50%           95%           99%          100%           max\n",
      "userid         90189.00000 4998412.23450 2883285.60770 116.00000 116.00000 502935.00000 4995815.00000 9492761.60000 9899751.28000 9999861.00000 9999861.00000\n",
      "sum_gamerounds 90189.00000      51.87246     195.05086   0.00000   0.00000      1.00000      16.00000     221.00000     493.00000   49854.00000   49854.00000\n",
      "##################### NA #####################\n",
      "userid            0\n",
      "version           0\n",
      "sum_gamerounds    0\n",
      "retention_1       0\n",
      "retention_7       0\n",
      "dtype: int64\n",
      "##################### Types #####################\n",
      "userid             int64\n",
      "version           object\n",
      "sum_gamerounds     int64\n",
      "retention_1         bool\n",
      "retention_7         bool\n",
      "dtype: object\n"
     ]
    }
   ],
   "source": [
    "df_ = pd.read_csv(\"/kaggle/input/mobile-games-ab-testing/cookie_cats.csv\")\n",
    "df = df_\n",
    "def check_df(dataframe):\n",
    "    print(\"##################### First 10 Observations #####################\")\n",
    "    print(dataframe.head(10))\n",
    "    print(\"##################### Column names #####################\")\n",
    "    print(df.info())\n",
    "    print(\"##################### Shape #####################\")\n",
    "    print(dataframe.shape)\n",
    "    print(\"##################### Quantiles #####################\")\n",
    "    print(dataframe.describe([0, 0.05, 0.50, 0.95, 0.99, 1]).T)\n",
    "    print(\"##################### NA #####################\")\n",
    "    print(dataframe.isnull().sum())\n",
    "    print(\"##################### Types #####################\")\n",
    "    print(dataframe.dtypes)\n",
    "check_df(df)"
   ]
  },
  {
   "cell_type": "code",
   "execution_count": 3,
   "id": "dd810e2c",
   "metadata": {
    "execution": {
     "iopub.execute_input": "2023-03-28T15:17:54.383966Z",
     "iopub.status.busy": "2023-03-28T15:17:54.383534Z",
     "iopub.status.idle": "2023-03-28T15:17:54.452300Z",
     "shell.execute_reply": "2023-03-28T15:17:54.450907Z"
    },
    "papermill": {
     "duration": 0.079008,
     "end_time": "2023-03-28T15:17:54.455371",
     "exception": false,
     "start_time": "2023-03-28T15:17:54.376363",
     "status": "completed"
    },
    "tags": []
   },
   "outputs": [
    {
     "data": {
      "text/html": [
       "<div>\n",
       "<style scoped>\n",
       "    .dataframe tbody tr th:only-of-type {\n",
       "        vertical-align: middle;\n",
       "    }\n",
       "\n",
       "    .dataframe tbody tr th {\n",
       "        vertical-align: top;\n",
       "    }\n",
       "\n",
       "    .dataframe thead tr th {\n",
       "        text-align: left;\n",
       "    }\n",
       "\n",
       "    .dataframe thead tr:last-of-type th {\n",
       "        text-align: right;\n",
       "    }\n",
       "</style>\n",
       "<table border=\"1\" class=\"dataframe\">\n",
       "  <thead>\n",
       "    <tr>\n",
       "      <th></th>\n",
       "      <th colspan=\"5\" halign=\"left\">sum_gamerounds</th>\n",
       "      <th colspan=\"5\" halign=\"left\">retention_1</th>\n",
       "      <th colspan=\"5\" halign=\"left\">retention_7</th>\n",
       "    </tr>\n",
       "    <tr>\n",
       "      <th></th>\n",
       "      <th>count</th>\n",
       "      <th>median</th>\n",
       "      <th>mean</th>\n",
       "      <th>std</th>\n",
       "      <th>max</th>\n",
       "      <th>count</th>\n",
       "      <th>median</th>\n",
       "      <th>mean</th>\n",
       "      <th>std</th>\n",
       "      <th>max</th>\n",
       "      <th>count</th>\n",
       "      <th>median</th>\n",
       "      <th>mean</th>\n",
       "      <th>std</th>\n",
       "      <th>max</th>\n",
       "    </tr>\n",
       "    <tr>\n",
       "      <th>version</th>\n",
       "      <th></th>\n",
       "      <th></th>\n",
       "      <th></th>\n",
       "      <th></th>\n",
       "      <th></th>\n",
       "      <th></th>\n",
       "      <th></th>\n",
       "      <th></th>\n",
       "      <th></th>\n",
       "      <th></th>\n",
       "      <th></th>\n",
       "      <th></th>\n",
       "      <th></th>\n",
       "      <th></th>\n",
       "      <th></th>\n",
       "    </tr>\n",
       "  </thead>\n",
       "  <tbody>\n",
       "    <tr>\n",
       "      <th>gate_30</th>\n",
       "      <td>44700</td>\n",
       "      <td>17.00000</td>\n",
       "      <td>52.45626</td>\n",
       "      <td>256.71642</td>\n",
       "      <td>49854</td>\n",
       "      <td>44700</td>\n",
       "      <td>0.00000</td>\n",
       "      <td>0.44819</td>\n",
       "      <td>0.49731</td>\n",
       "      <td>True</td>\n",
       "      <td>44700</td>\n",
       "      <td>0.00000</td>\n",
       "      <td>0.19020</td>\n",
       "      <td>0.39246</td>\n",
       "      <td>True</td>\n",
       "    </tr>\n",
       "    <tr>\n",
       "      <th>gate_40</th>\n",
       "      <td>45489</td>\n",
       "      <td>16.00000</td>\n",
       "      <td>51.29878</td>\n",
       "      <td>103.29442</td>\n",
       "      <td>2640</td>\n",
       "      <td>45489</td>\n",
       "      <td>0.00000</td>\n",
       "      <td>0.44228</td>\n",
       "      <td>0.49666</td>\n",
       "      <td>True</td>\n",
       "      <td>45489</td>\n",
       "      <td>0.00000</td>\n",
       "      <td>0.18200</td>\n",
       "      <td>0.38585</td>\n",
       "      <td>True</td>\n",
       "    </tr>\n",
       "  </tbody>\n",
       "</table>\n",
       "</div>"
      ],
      "text/plain": [
       "        sum_gamerounds                                    retention_1                               retention_7                              \n",
       "                 count   median     mean       std    max       count  median    mean     std   max       count  median    mean     std   max\n",
       "version                                                                                                                                      \n",
       "gate_30          44700 17.00000 52.45626 256.71642  49854       44700 0.00000 0.44819 0.49731  True       44700 0.00000 0.19020 0.39246  True\n",
       "gate_40          45489 16.00000 51.29878 103.29442   2640       45489 0.00000 0.44228 0.49666  True       45489 0.00000 0.18200 0.38585  True"
      ]
     },
     "execution_count": 3,
     "metadata": {},
     "output_type": "execute_result"
    }
   ],
   "source": [
    "df.groupby(\"version\").agg({\"sum_gamerounds\":[\"count\", \"median\", \"mean\", \"std\", \"max\"],\n",
    "                          \"retention_1\":[\"count\", \"median\", \"mean\", \"std\", \"max\"],\n",
    "                          \"retention_7\":[\"count\", \"median\", \"mean\", \"std\", \"max\"]})"
   ]
  },
  {
   "cell_type": "markdown",
   "id": "f72a485b",
   "metadata": {
    "papermill": {
     "duration": 0.005701,
     "end_time": "2023-03-28T15:17:54.467160",
     "exception": false,
     "start_time": "2023-03-28T15:17:54.461459",
     "status": "completed"
    },
    "tags": []
   },
   "source": [
    "We get rid of outliers"
   ]
  },
  {
   "cell_type": "code",
   "execution_count": 4,
   "id": "bacdc41b",
   "metadata": {
    "execution": {
     "iopub.execute_input": "2023-03-28T15:17:54.482643Z",
     "iopub.status.busy": "2023-03-28T15:17:54.482159Z",
     "iopub.status.idle": "2023-03-28T15:17:54.513732Z",
     "shell.execute_reply": "2023-03-28T15:17:54.512322Z"
    },
    "papermill": {
     "duration": 0.042703,
     "end_time": "2023-03-28T15:17:54.516316",
     "exception": false,
     "start_time": "2023-03-28T15:17:54.473613",
     "status": "completed"
    },
    "tags": []
   },
   "outputs": [
    {
     "data": {
      "text/html": [
       "<div>\n",
       "<style scoped>\n",
       "    .dataframe tbody tr th:only-of-type {\n",
       "        vertical-align: middle;\n",
       "    }\n",
       "\n",
       "    .dataframe tbody tr th {\n",
       "        vertical-align: top;\n",
       "    }\n",
       "\n",
       "    .dataframe thead th {\n",
       "        text-align: right;\n",
       "    }\n",
       "</style>\n",
       "<table border=\"1\" class=\"dataframe\">\n",
       "  <thead>\n",
       "    <tr style=\"text-align: right;\">\n",
       "      <th></th>\n",
       "      <th>count</th>\n",
       "      <th>mean</th>\n",
       "      <th>std</th>\n",
       "      <th>min</th>\n",
       "      <th>1%</th>\n",
       "      <th>5%</th>\n",
       "      <th>10%</th>\n",
       "      <th>20%</th>\n",
       "      <th>50%</th>\n",
       "      <th>80%</th>\n",
       "      <th>90%</th>\n",
       "      <th>95%</th>\n",
       "      <th>99%</th>\n",
       "      <th>99.9%</th>\n",
       "      <th>99.99%</th>\n",
       "      <th>max</th>\n",
       "    </tr>\n",
       "  </thead>\n",
       "  <tbody>\n",
       "    <tr>\n",
       "      <th>sum_gamerounds</th>\n",
       "      <td>90189.00000</td>\n",
       "      <td>51.87246</td>\n",
       "      <td>195.05086</td>\n",
       "      <td>0.00000</td>\n",
       "      <td>0.00000</td>\n",
       "      <td>1.00000</td>\n",
       "      <td>1.00000</td>\n",
       "      <td>3.00000</td>\n",
       "      <td>16.00000</td>\n",
       "      <td>67.00000</td>\n",
       "      <td>134.00000</td>\n",
       "      <td>221.00000</td>\n",
       "      <td>493.00000</td>\n",
       "      <td>1073.62400</td>\n",
       "      <td>2012.95080</td>\n",
       "      <td>49854.00000</td>\n",
       "    </tr>\n",
       "  </tbody>\n",
       "</table>\n",
       "</div>"
      ],
      "text/plain": [
       "                     count     mean       std     min      1%      5%     10%     20%      50%      80%       90%       95%       99%      99.9%     99.99%         max\n",
       "sum_gamerounds 90189.00000 51.87246 195.05086 0.00000 0.00000 1.00000 1.00000 3.00000 16.00000 67.00000 134.00000 221.00000 493.00000 1073.62400 2012.95080 49854.00000"
      ]
     },
     "execution_count": 4,
     "metadata": {},
     "output_type": "execute_result"
    }
   ],
   "source": [
    "# Summary Stats: sum_gamerounds\n",
    "df.describe([0.01, 0.05, 0.10, 0.20, 0.80, 0.90, 0.95, 0.99, 0.999, 0.9999])[[\"sum_gamerounds\"]].T"
   ]
  },
  {
   "cell_type": "code",
   "execution_count": 5,
   "id": "0078b7c0",
   "metadata": {
    "execution": {
     "iopub.execute_input": "2023-03-28T15:17:54.531873Z",
     "iopub.status.busy": "2023-03-28T15:17:54.531149Z",
     "iopub.status.idle": "2023-03-28T15:17:54.542773Z",
     "shell.execute_reply": "2023-03-28T15:17:54.541917Z"
    },
    "papermill": {
     "duration": 0.022526,
     "end_time": "2023-03-28T15:17:54.545039",
     "exception": false,
     "start_time": "2023-03-28T15:17:54.522513",
     "status": "completed"
    },
    "tags": []
   },
   "outputs": [
    {
     "data": {
      "text/plain": [
       "49854    1\n",
       "2961     1\n",
       "2640     1\n",
       "2438     1\n",
       "2294     1\n",
       "2251     1\n",
       "2156     1\n",
       "2124     1\n",
       "2063     1\n",
       "2015     1\n",
       "1906     1\n",
       "1816     1\n",
       "1714     1\n",
       "1705     1\n",
       "1697     1\n",
       "1687     1\n",
       "1667     1\n",
       "1643     2\n",
       "1573     1\n",
       "1559     1\n",
       "Name: sum_gamerounds, dtype: int64"
      ]
     },
     "execution_count": 5,
     "metadata": {},
     "output_type": "execute_result"
    }
   ],
   "source": [
    "df.sum_gamerounds.value_counts().sort_index(ascending=False).head(20)"
   ]
  },
  {
   "cell_type": "code",
   "execution_count": 6,
   "id": "18567abe",
   "metadata": {
    "execution": {
     "iopub.execute_input": "2023-03-28T15:17:54.560308Z",
     "iopub.status.busy": "2023-03-28T15:17:54.559033Z",
     "iopub.status.idle": "2023-03-28T15:17:54.569452Z",
     "shell.execute_reply": "2023-03-28T15:17:54.568165Z"
    },
    "papermill": {
     "duration": 0.021178,
     "end_time": "2023-03-28T15:17:54.572423",
     "exception": false,
     "start_time": "2023-03-28T15:17:54.551245",
     "status": "completed"
    },
    "tags": []
   },
   "outputs": [],
   "source": [
    "df = df[df.sum_gamerounds < df.sum_gamerounds.max()]\n",
    "\n"
   ]
  },
  {
   "cell_type": "code",
   "execution_count": 7,
   "id": "754a118b",
   "metadata": {
    "execution": {
     "iopub.execute_input": "2023-03-28T15:17:54.587469Z",
     "iopub.status.busy": "2023-03-28T15:17:54.586635Z",
     "iopub.status.idle": "2023-03-28T15:17:54.615749Z",
     "shell.execute_reply": "2023-03-28T15:17:54.614329Z"
    },
    "papermill": {
     "duration": 0.039837,
     "end_time": "2023-03-28T15:17:54.618572",
     "exception": false,
     "start_time": "2023-03-28T15:17:54.578735",
     "status": "completed"
    },
    "tags": []
   },
   "outputs": [
    {
     "name": "stderr",
     "output_type": "stream",
     "text": [
      "/opt/conda/lib/python3.7/site-packages/ipykernel_launcher.py:1: SettingWithCopyWarning: \n",
      "A value is trying to be set on a copy of a slice from a DataFrame.\n",
      "Try using .loc[row_indexer,col_indexer] = value instead\n",
      "\n",
      "See the caveats in the documentation: https://pandas.pydata.org/pandas-docs/stable/user_guide/indexing.html#returning-a-view-versus-a-copy\n",
      "  \"\"\"Entry point for launching an IPython kernel.\n"
     ]
    },
    {
     "data": {
      "text/html": [
       "<div>\n",
       "<style scoped>\n",
       "    .dataframe tbody tr th:only-of-type {\n",
       "        vertical-align: middle;\n",
       "    }\n",
       "\n",
       "    .dataframe tbody tr th {\n",
       "        vertical-align: top;\n",
       "    }\n",
       "\n",
       "    .dataframe thead th {\n",
       "        text-align: right;\n",
       "    }\n",
       "</style>\n",
       "<table border=\"1\" class=\"dataframe\">\n",
       "  <thead>\n",
       "    <tr style=\"text-align: right;\">\n",
       "      <th></th>\n",
       "      <th>userid</th>\n",
       "      <th>version</th>\n",
       "      <th>sum_gamerounds</th>\n",
       "      <th>retention_1</th>\n",
       "      <th>retention_7</th>\n",
       "    </tr>\n",
       "  </thead>\n",
       "  <tbody>\n",
       "    <tr>\n",
       "      <th>0</th>\n",
       "      <td>116</td>\n",
       "      <td>A</td>\n",
       "      <td>3</td>\n",
       "      <td>False</td>\n",
       "      <td>False</td>\n",
       "    </tr>\n",
       "    <tr>\n",
       "      <th>1</th>\n",
       "      <td>337</td>\n",
       "      <td>A</td>\n",
       "      <td>38</td>\n",
       "      <td>True</td>\n",
       "      <td>False</td>\n",
       "    </tr>\n",
       "    <tr>\n",
       "      <th>2</th>\n",
       "      <td>377</td>\n",
       "      <td>B</td>\n",
       "      <td>165</td>\n",
       "      <td>True</td>\n",
       "      <td>False</td>\n",
       "    </tr>\n",
       "    <tr>\n",
       "      <th>3</th>\n",
       "      <td>483</td>\n",
       "      <td>B</td>\n",
       "      <td>1</td>\n",
       "      <td>False</td>\n",
       "      <td>False</td>\n",
       "    </tr>\n",
       "    <tr>\n",
       "      <th>4</th>\n",
       "      <td>488</td>\n",
       "      <td>B</td>\n",
       "      <td>179</td>\n",
       "      <td>True</td>\n",
       "      <td>True</td>\n",
       "    </tr>\n",
       "  </tbody>\n",
       "</table>\n",
       "</div>"
      ],
      "text/plain": [
       "   userid version  sum_gamerounds  retention_1  retention_7\n",
       "0     116       A               3        False        False\n",
       "1     337       A              38         True        False\n",
       "2     377       B             165         True        False\n",
       "3     483       B               1        False        False\n",
       "4     488       B             179         True         True"
      ]
     },
     "execution_count": 7,
     "metadata": {},
     "output_type": "execute_result"
    }
   ],
   "source": [
    "df[\"version\"] = np.where(df[\"version\"] == \"gate_30\", \"A\", \"B\")\n",
    "df.head()"
   ]
  },
  {
   "cell_type": "markdown",
   "id": "3cbc3e95",
   "metadata": {
    "papermill": {
     "duration": 0.006361,
     "end_time": "2023-03-28T15:17:54.631647",
     "exception": false,
     "start_time": "2023-03-28T15:17:54.625286",
     "status": "completed"
    },
    "tags": []
   },
   "source": [
    "we tag versions as A and B for hypothesis testing"
   ]
  },
  {
   "cell_type": "markdown",
   "id": "822424b1",
   "metadata": {
    "papermill": {
     "duration": 0.006134,
     "end_time": "2023-03-28T15:17:54.644216",
     "exception": false,
     "start_time": "2023-03-28T15:17:54.638082",
     "status": "completed"
    },
    "tags": []
   },
   "source": [
    "# A/B Testing\n",
    "\n",
    "### Assumptions:\n",
    "\n",
    "- Check normality\n",
    "- If Normal Distribution, check homogeneity\n",
    "\n",
    "### Steps:\n",
    "- Split & Define Control Group & Test Group\n",
    "- Apply Shapiro Test for normality\n",
    "- If parametric apply Levene Test for homogeneity of variances\n",
    "- If Parametric + homogeneity of variances apply T-Test\n",
    "- If Parametric - homogeneity of variances apply Welch Test\n",
    "- If Non-parametric apply Mann Whitney U Test directly"
   ]
  },
  {
   "cell_type": "code",
   "execution_count": 8,
   "id": "a629e1dc",
   "metadata": {
    "execution": {
     "iopub.execute_input": "2023-03-28T15:17:54.659608Z",
     "iopub.status.busy": "2023-03-28T15:17:54.658407Z",
     "iopub.status.idle": "2023-03-28T15:17:54.690143Z",
     "shell.execute_reply": "2023-03-28T15:17:54.688558Z"
    },
    "papermill": {
     "duration": 0.042395,
     "end_time": "2023-03-28T15:17:54.693029",
     "exception": false,
     "start_time": "2023-03-28T15:17:54.650634",
     "status": "completed"
    },
    "tags": []
   },
   "outputs": [
    {
     "data": {
      "text/html": [
       "<div>\n",
       "<style scoped>\n",
       "    .dataframe tbody tr th:only-of-type {\n",
       "        vertical-align: middle;\n",
       "    }\n",
       "\n",
       "    .dataframe tbody tr th {\n",
       "        vertical-align: top;\n",
       "    }\n",
       "\n",
       "    .dataframe thead tr th {\n",
       "        text-align: left;\n",
       "    }\n",
       "\n",
       "    .dataframe thead tr:last-of-type th {\n",
       "        text-align: right;\n",
       "    }\n",
       "</style>\n",
       "<table border=\"1\" class=\"dataframe\">\n",
       "  <thead>\n",
       "    <tr>\n",
       "      <th></th>\n",
       "      <th colspan=\"5\" halign=\"left\">sum_gamerounds</th>\n",
       "    </tr>\n",
       "    <tr>\n",
       "      <th></th>\n",
       "      <th>count</th>\n",
       "      <th>median</th>\n",
       "      <th>mean</th>\n",
       "      <th>std</th>\n",
       "      <th>max</th>\n",
       "    </tr>\n",
       "    <tr>\n",
       "      <th>version</th>\n",
       "      <th></th>\n",
       "      <th></th>\n",
       "      <th></th>\n",
       "      <th></th>\n",
       "      <th></th>\n",
       "    </tr>\n",
       "  </thead>\n",
       "  <tbody>\n",
       "    <tr>\n",
       "      <th>A</th>\n",
       "      <td>44699</td>\n",
       "      <td>17.00000</td>\n",
       "      <td>51.34211</td>\n",
       "      <td>102.05760</td>\n",
       "      <td>2961</td>\n",
       "    </tr>\n",
       "    <tr>\n",
       "      <th>B</th>\n",
       "      <td>45489</td>\n",
       "      <td>16.00000</td>\n",
       "      <td>51.29878</td>\n",
       "      <td>103.29442</td>\n",
       "      <td>2640</td>\n",
       "    </tr>\n",
       "  </tbody>\n",
       "</table>\n",
       "</div>"
      ],
      "text/plain": [
       "        sum_gamerounds                                  \n",
       "                 count   median     mean       std   max\n",
       "version                                                 \n",
       "A                44699 17.00000 51.34211 102.05760  2961\n",
       "B                45489 16.00000 51.29878 103.29442  2640"
      ]
     },
     "execution_count": 8,
     "metadata": {},
     "output_type": "execute_result"
    }
   ],
   "source": [
    "df.groupby(\"version\").agg({\"sum_gamerounds\":[\"count\", \"median\", \"mean\", \"std\", \"max\"],})"
   ]
  },
  {
   "cell_type": "markdown",
   "id": "05f2e1ac",
   "metadata": {
    "papermill": {
     "duration": 0.006472,
     "end_time": "2023-03-28T15:17:54.706306",
     "exception": false,
     "start_time": "2023-03-28T15:17:54.699834",
     "status": "completed"
    },
    "tags": []
   },
   "source": [
    "Version A: if the player was put in the control group at a gate at level 30  \n",
    "Version B: if the player was put in the control group at a gate at level 40"
   ]
  },
  {
   "cell_type": "markdown",
   "id": "a7ff14ed",
   "metadata": {
    "papermill": {
     "duration": 0.006329,
     "end_time": "2023-03-28T15:17:54.719692",
     "exception": false,
     "start_time": "2023-03-28T15:17:54.713363",
     "status": "completed"
    },
    "tags": []
   },
   "source": [
    "#### H0: M1 = M2 (There is no statiscally difference in the average number of game rounds played by the player during the first 14 days after install between Version A and Version B.)\n",
    "\n",
    "#### H1: M1 != M2 (There is statiscally difference in the average number of game rounds played by the player during the first 14 days after install between Version A and Version B.)\n",
    "\n"
   ]
  },
  {
   "cell_type": "code",
   "execution_count": 9,
   "id": "389034a9",
   "metadata": {
    "execution": {
     "iopub.execute_input": "2023-03-28T15:17:54.736512Z",
     "iopub.status.busy": "2023-03-28T15:17:54.735381Z",
     "iopub.status.idle": "2023-03-28T15:17:54.746489Z",
     "shell.execute_reply": "2023-03-28T15:17:54.745511Z"
    },
    "papermill": {
     "duration": 0.022292,
     "end_time": "2023-03-28T15:17:54.748809",
     "exception": false,
     "start_time": "2023-03-28T15:17:54.726517",
     "status": "completed"
    },
    "tags": []
   },
   "outputs": [],
   "source": [
    "def hypothesis_testing(dataframe, group, target):\n",
    "    groupA = dataframe[dataframe[group] == \"A\"][target]\n",
    "    groupB = dataframe[dataframe[group] == \"B\"][target]\n",
    "\n",
    "\n",
    "    test_stat_A, pvalue_A = shapiro(groupA)\n",
    "    print('GroupA: Test Stat = %.10f, p-value = %.10f' % (test_stat_A, pvalue_A))\n",
    "\n",
    "    test_stat_B, pvalue_B = shapiro(groupB)\n",
    "    print('GroupB: Test Stat = %.10f, p-value = %.10f' % (test_stat_B, pvalue_B))\n",
    "\n",
    "    if pvalue_A >= 0.05 and pvalue_B >= 0.05:\n",
    "        test_stat_lev, pvalue_lev = levene(groupA, groupB)\n",
    "        print('Levene: Test Stat = %.10f, p-value = %.10f' % (test_stat_lev, pvalue_lev))\n",
    "        if leveneTest >= 0.05:\n",
    "            test_stat_t, pvalue_t = ttest_ind(groupA, groupB, equal_var=True)\n",
    "            print('Ttest: Test Stat = %.10f, p-value = %.10f' % (test_stat_t, pvalue_t))\n",
    "            if pvalue_t >= 0.05:\n",
    "                print(f\"{pvalue_t} !< 0.05, We cannot reject H0\")\n",
    "            else:\n",
    "                print(f\"{pvalue_t} < 0.05, We reject H0\")\n",
    "        else:\n",
    "            test_stat_t, pvalue_t = ttest_ind(groupA, groupB, equal_var=False)\n",
    "            print('Ttest: Test Stat = %.10f, p-value = %.10f' % (test_stat_t, pvalue_t))\n",
    "            if pvalue_t >= 0.05:\n",
    "                print(f\"{pvalue_t} !< 0.05, We cannot reject H0\")\n",
    "            else:\n",
    "                print(f\"{pvalue_t} < 0.05, We reject H0\")\n",
    "    else:\n",
    "        test_stat_man, pvalue_man = mannwhitneyu(groupA, groupB)\n",
    "        print('Mann: Test Stat = %.4f, p-value = %.4f' % (test_stat_man, pvalue_man))\n",
    "        if pvalue_man >= 0.05:\n",
    "            print(f\"{pvalue_man} ≮  0.05, We fail reject H0\")\n",
    "        else:\n",
    "            print(f\"{pvalue_man} < 0.05, We reject H0\")"
   ]
  },
  {
   "cell_type": "code",
   "execution_count": 10,
   "id": "1b15d846",
   "metadata": {
    "execution": {
     "iopub.execute_input": "2023-03-28T15:17:54.764161Z",
     "iopub.status.busy": "2023-03-28T15:17:54.763430Z",
     "iopub.status.idle": "2023-03-28T15:17:54.857531Z",
     "shell.execute_reply": "2023-03-28T15:17:54.855783Z"
    },
    "papermill": {
     "duration": 0.105128,
     "end_time": "2023-03-28T15:17:54.860479",
     "exception": false,
     "start_time": "2023-03-28T15:17:54.755351",
     "status": "completed"
    },
    "tags": []
   },
   "outputs": [
    {
     "name": "stderr",
     "output_type": "stream",
     "text": [
      "/opt/conda/lib/python3.7/site-packages/scipy/stats/morestats.py:1760: UserWarning: p-value may not be accurate for N > 5000.\n",
      "  warnings.warn(\"p-value may not be accurate for N > 5000.\")\n"
     ]
    },
    {
     "name": "stdout",
     "output_type": "stream",
     "text": [
      "GroupA: Test Stat = 0.4886442423, p-value = 0.0000000000\n",
      "GroupB: Test Stat = 0.4825654030, p-value = 0.0000000000\n",
      "Mann: Test Stat = 1024285761.5000, p-value = 0.0509\n",
      "0.05089155279145376 ≮  0.05, We fail reject H0\n"
     ]
    }
   ],
   "source": [
    "hypothesis_testing(df, \"version\", \"sum_gamerounds\")"
   ]
  },
  {
   "cell_type": "markdown",
   "id": "70967f9e",
   "metadata": {
    "papermill": {
     "duration": 0.00667,
     "end_time": "2023-03-28T15:17:54.874401",
     "exception": false,
     "start_time": "2023-03-28T15:17:54.867731",
     "status": "completed"
    },
    "tags": []
   },
   "source": [
    "# Summary:\n",
    "##### Failing to reject H0 in A/B testing indicates that there is not enough evidence to suggest that there is a statistically significant difference between the two groups being compared. This can be interpreted as evidence that the treatment or change being tested did not have a significant impact on the outcome being measured, and that any observed differences could be due to random chance or variability in the data.  \n"
   ]
  },
  {
   "cell_type": "code",
   "execution_count": null,
   "id": "bbd50334",
   "metadata": {
    "papermill": {
     "duration": 0.006418,
     "end_time": "2023-03-28T15:17:54.887613",
     "exception": false,
     "start_time": "2023-03-28T15:17:54.881195",
     "status": "completed"
    },
    "tags": []
   },
   "outputs": [],
   "source": []
  }
 ],
 "metadata": {
  "kernelspec": {
   "display_name": "Python 3",
   "language": "python",
   "name": "python3"
  },
  "language_info": {
   "codemirror_mode": {
    "name": "ipython",
    "version": 3
   },
   "file_extension": ".py",
   "mimetype": "text/x-python",
   "name": "python",
   "nbconvert_exporter": "python",
   "pygments_lexer": "ipython3",
   "version": "3.7.12"
  },
  "papermill": {
   "default_parameters": {},
   "duration": 13.485287,
   "end_time": "2023-03-28T15:17:55.618900",
   "environment_variables": {},
   "exception": null,
   "input_path": "__notebook__.ipynb",
   "output_path": "__notebook__.ipynb",
   "parameters": {},
   "start_time": "2023-03-28T15:17:42.133613",
   "version": "2.4.0"
  }
 },
 "nbformat": 4,
 "nbformat_minor": 5
}
