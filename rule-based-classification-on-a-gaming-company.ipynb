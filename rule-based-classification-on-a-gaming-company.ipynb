{
 "cells": [
  {
   "cell_type": "markdown",
   "id": "b3f17110",
   "metadata": {
    "papermill": {
     "duration": 0.009426,
     "end_time": "2023-03-09T21:09:21.947571",
     "exception": false,
     "start_time": "2023-03-09T21:09:21.938145",
     "status": "completed"
    },
    "tags": []
   },
   "source": [
    "# **Introduction**\n",
    "In this notebook, customer segmentation was done using the sales data of an international gaming company, and a revenue prediction model was created using demographic characteristics as inputs.\n",
    "\n",
    "![](https://storage.googleapis.com/pod_public/1300/121065.jpg)\n"
   ]
  },
  {
   "cell_type": "markdown",
   "id": "96b94788",
   "metadata": {
    "papermill": {
     "duration": 0.007761,
     "end_time": "2023-03-09T21:09:21.963657",
     "exception": false,
     "start_time": "2023-03-09T21:09:21.955896",
     "status": "completed"
    },
    "tags": []
   },
   "source": [
    " # **Business Case**\n",
    " A gaming company wants to create level-based new customer definitions (persona) using some characteristics of its customers and by creating new segments according to these new customer definitions, the company wants to estimate how much yield on average, possible new customers can made.\n",
    " ### For Example\n",
    " The company wants to determine how much an IOS user, 25 years old male, from Turkey can potentially generate on average.\n",
    " \n"
   ]
  },
  {
   "cell_type": "markdown",
   "id": "9bd9a40e",
   "metadata": {
    "papermill": {
     "duration": 0.007721,
     "end_time": "2023-03-09T21:09:21.979561",
     "exception": false,
     "start_time": "2023-03-09T21:09:21.971840",
     "status": "completed"
    },
    "tags": []
   },
   "source": []
  },
  {
   "cell_type": "markdown",
   "id": "d1d433e1",
   "metadata": {
    "execution": {
     "iopub.execute_input": "2023-03-09T10:47:47.350099Z",
     "iopub.status.busy": "2023-03-09T10:47:47.349626Z",
     "iopub.status.idle": "2023-03-09T10:47:47.355779Z",
     "shell.execute_reply": "2023-03-09T10:47:47.354298Z",
     "shell.execute_reply.started": "2023-03-09T10:47:47.350059Z"
    },
    "papermill": {
     "duration": 0.007764,
     "end_time": "2023-03-09T21:09:21.995487",
     "exception": false,
     "start_time": "2023-03-09T21:09:21.987723",
     "status": "completed"
    },
    "tags": []
   },
   "source": [
    " # 1) Importing necessary libraries and settings"
   ]
  },
  {
   "cell_type": "code",
   "execution_count": 1,
   "id": "3ef86844",
   "metadata": {
    "_cell_guid": "b1076dfc-b9ad-4769-8c92-a6c4dae69d19",
    "_uuid": "8f2839f25d086af736a60e9eeb907d3b93b6e0e5",
    "execution": {
     "iopub.execute_input": "2023-03-09T21:09:22.013804Z",
     "iopub.status.busy": "2023-03-09T21:09:22.013399Z",
     "iopub.status.idle": "2023-03-09T21:09:23.292523Z",
     "shell.execute_reply": "2023-03-09T21:09:23.291064Z"
    },
    "papermill": {
     "duration": 1.293159,
     "end_time": "2023-03-09T21:09:23.296892",
     "exception": false,
     "start_time": "2023-03-09T21:09:22.003733",
     "status": "completed"
    },
    "tags": []
   },
   "outputs": [
    {
     "name": "stdout",
     "output_type": "stream",
     "text": [
      "/kaggle/input/persona/persona.csv\n"
     ]
    }
   ],
   "source": [
    "import pandas as pd\n",
    "import seaborn as sns\n",
    "import matplotlib.pyplot as plt\n",
    "pd.set_option('display.max_columns', None)\n",
    "# pd.set_option('display.max_rows', None)\n",
    "pd.set_option(\"display.width\", 1000)\n",
    "import os\n",
    "for dirname, _, filenames in os.walk('/kaggle/input'):\n",
    "    for filename in filenames:\n",
    "        print(os.path.join(dirname, filename))\n",
    "\n"
   ]
  },
  {
   "cell_type": "markdown",
   "id": "94a9eaa8",
   "metadata": {
    "papermill": {
     "duration": 0.007919,
     "end_time": "2023-03-09T21:09:23.313886",
     "exception": false,
     "start_time": "2023-03-09T21:09:23.305967",
     "status": "completed"
    },
    "tags": []
   },
   "source": [
    "### Datasets Story\n",
    "The Persona.csv data set contains the prices of products sold by an international gaming company and some demographic information of users who purchased these products. The data set consists of records generated in each sales transaction. This means that the table is not grouped. In other words, a user with certain demographic characteristics may have made multiple purchases.\n",
    "\n",
    "-Price: The amount of money spent by the customer  \n",
    "-Source: The type of device the customer is connected to  \n",
    "-Sex: The gender of the customer  \n",
    "-Country: The country of the customer  \n",
    "-Age: The age of the customer. "
   ]
  },
  {
   "cell_type": "markdown",
   "id": "e136e274",
   "metadata": {
    "papermill": {
     "duration": 0.007948,
     "end_time": "2023-03-09T21:09:23.330259",
     "exception": false,
     "start_time": "2023-03-09T21:09:23.322311",
     "status": "completed"
    },
    "tags": []
   },
   "source": [
    "# 2) Reading datasets and understanding datasets"
   ]
  },
  {
   "cell_type": "code",
   "execution_count": 2,
   "id": "44b1adfd",
   "metadata": {
    "execution": {
     "iopub.execute_input": "2023-03-09T21:09:23.349876Z",
     "iopub.status.busy": "2023-03-09T21:09:23.349440Z",
     "iopub.status.idle": "2023-03-09T21:09:23.438415Z",
     "shell.execute_reply": "2023-03-09T21:09:23.436009Z"
    },
    "papermill": {
     "duration": 0.101979,
     "end_time": "2023-03-09T21:09:23.441576",
     "exception": false,
     "start_time": "2023-03-09T21:09:23.339597",
     "status": "completed"
    },
    "tags": []
   },
   "outputs": [
    {
     "name": "stdout",
     "output_type": "stream",
     "text": [
      "##################### Shape #####################\n",
      "(5000, 5)\n",
      "##################### Column Names #####################\n",
      "<class 'pandas.core.frame.DataFrame'>\n",
      "Int64Index: 5000 entries, 0 to 4999\n",
      "Data columns (total 5 columns):\n",
      " #   Column   Non-Null Count  Dtype \n",
      "---  ------   --------------  ----- \n",
      " 0   PRICE    5000 non-null   int64 \n",
      " 1   SOURCE   5000 non-null   object\n",
      " 2   SEX      5000 non-null   object\n",
      " 3   COUNTRY  5000 non-null   object\n",
      " 4   AGE      5000 non-null   int64 \n",
      "dtypes: int64(2), object(3)\n",
      "memory usage: 234.4+ KB\n",
      "None\n",
      "##################### Types #####################\n",
      "PRICE       int64\n",
      "SOURCE     object\n",
      "SEX        object\n",
      "COUNTRY    object\n",
      "AGE         int64\n",
      "dtype: object\n",
      "##################### Head #####################\n",
      "   PRICE   SOURCE   SEX COUNTRY  AGE\n",
      "0     39  android  male     bra   17\n",
      "1     39  android  male     bra   17\n",
      "2     49  android  male     bra   17\n",
      "3     29  android  male     tur   17\n",
      "4     49  android  male     tur   17\n",
      "##################### Tail #####################\n",
      "      PRICE   SOURCE     SEX COUNTRY  AGE\n",
      "4995     29  android  female     bra   31\n",
      "4996     29  android  female     bra   31\n",
      "4997     29  android  female     bra   31\n",
      "4998     39  android  female     bra   31\n",
      "4999     29  android  female     bra   31\n",
      "##################### NA #####################\n",
      "PRICE      0\n",
      "SOURCE     0\n",
      "SEX        0\n",
      "COUNTRY    0\n",
      "AGE        0\n",
      "dtype: int64\n",
      "##################### Quantiles #####################\n",
      "        count     mean        std   min    0%    5%   50%   95%   99%  100%   max\n",
      "PRICE  5000.0  34.1320  12.464897   9.0   9.0  19.0  39.0  49.0  59.0  59.0  59.0\n",
      "AGE    5000.0  23.5814   8.995908  15.0  15.0  15.0  21.0  43.0  53.0  66.0  66.0\n"
     ]
    }
   ],
   "source": [
    "df = pd.read_csv(\"/kaggle/input/persona/persona.csv\")\n",
    "\n",
    "def check_df(dataframe, head=5):\n",
    "    \"\"\"This function will give us basic information about datasets \"\"\"\n",
    "    \n",
    "    print(\"##################### Shape #####################\")\n",
    "    print(dataframe.shape)\n",
    "    print(\"##################### Column Names #####################\")\n",
    "    print(dataframe.info())\n",
    "    print(\"##################### Types #####################\")\n",
    "    print(dataframe.dtypes)\n",
    "    print(\"##################### Head #####################\")\n",
    "    print(dataframe.head(head))\n",
    "    print(\"##################### Tail #####################\")\n",
    "    print(dataframe.tail(head))\n",
    "    print(\"##################### NA #####################\")\n",
    "    print(dataframe.isnull().sum())\n",
    "    print(\"##################### Quantiles #####################\")\n",
    "    print(dataframe.describe([0, 0.05, 0.50, 0.95, 0.99, 1]).T)\n",
    "\n",
    "check_df(df)"
   ]
  },
  {
   "cell_type": "markdown",
   "id": "87dc503b",
   "metadata": {
    "papermill": {
     "duration": 0.008096,
     "end_time": "2023-03-09T21:09:23.458431",
     "exception": false,
     "start_time": "2023-03-09T21:09:23.450335",
     "status": "completed"
    },
    "tags": []
   },
   "source": []
  },
  {
   "cell_type": "markdown",
   "id": "ada1da7d",
   "metadata": {
    "execution": {
     "iopub.execute_input": "2023-03-09T11:40:55.125945Z",
     "iopub.status.busy": "2023-03-09T11:40:55.125482Z",
     "iopub.status.idle": "2023-03-09T11:40:55.132077Z",
     "shell.execute_reply": "2023-03-09T11:40:55.130469Z",
     "shell.execute_reply.started": "2023-03-09T11:40:55.125907Z"
    },
    "papermill": {
     "duration": 0.008057,
     "end_time": "2023-03-09T21:09:23.474811",
     "exception": false,
     "start_time": "2023-03-09T21:09:23.466754",
     "status": "completed"
    },
    "tags": []
   },
   "source": [
    "# 3) Project Requirements"
   ]
  },
  {
   "cell_type": "code",
   "execution_count": 3,
   "id": "349caf3a",
   "metadata": {
    "execution": {
     "iopub.execute_input": "2023-03-09T21:09:23.493746Z",
     "iopub.status.busy": "2023-03-09T21:09:23.493295Z",
     "iopub.status.idle": "2023-03-09T21:09:23.510174Z",
     "shell.execute_reply": "2023-03-09T21:09:23.507552Z"
    },
    "papermill": {
     "duration": 0.029883,
     "end_time": "2023-03-09T21:09:23.513196",
     "exception": false,
     "start_time": "2023-03-09T21:09:23.483313",
     "status": "completed"
    },
    "tags": []
   },
   "outputs": [
    {
     "name": "stdout",
     "output_type": "stream",
     "text": [
      "The number of unique PRICE variable is: 6\n",
      "Frequency of PRICE variable is:  \n",
      " 29    1305\n",
      "39    1260\n",
      "49    1031\n",
      "19     992\n",
      "59     212\n",
      "9      200\n",
      "Name: PRICE, dtype: int64\n",
      "The number of unique SOURCE variable is: 2\n",
      "Frequency of SOURCE variable is:  \n",
      " android    2974\n",
      "ios        2026\n",
      "Name: SOURCE, dtype: int64\n",
      "The number of unique COUNTRY variable is: 6\n",
      "Frequency of COUNTRY variable is:  \n",
      " usa    2065\n",
      "bra    1496\n",
      "deu     455\n",
      "tur     451\n",
      "fra     303\n",
      "can     230\n",
      "Name: COUNTRY, dtype: int64\n",
      "The number of unique AGE variable is: 46\n",
      "Frequency of AGE variable is:  \n",
      " 15    569\n",
      "16    494\n",
      "17    450\n",
      "18    348\n",
      "19    309\n",
      "20    264\n",
      "21    257\n",
      "22    242\n",
      "26    216\n",
      "23    210\n",
      "25    180\n",
      "24    173\n",
      "31    120\n",
      "27    113\n",
      "28    109\n",
      "33     95\n",
      "35     87\n",
      "37     70\n",
      "32     68\n",
      "42     66\n",
      "29     63\n",
      "34     61\n",
      "30     57\n",
      "38     42\n",
      "43     36\n",
      "50     33\n",
      "44     29\n",
      "41     28\n",
      "36     25\n",
      "45     24\n",
      "51     23\n",
      "40     21\n",
      "47     20\n",
      "49     19\n",
      "46     12\n",
      "57      8\n",
      "65      8\n",
      "59      8\n",
      "56      7\n",
      "66      7\n",
      "52      7\n",
      "53      6\n",
      "39      5\n",
      "54      4\n",
      "55      4\n",
      "61      3\n",
      "Name: AGE, dtype: int64\n"
     ]
    }
   ],
   "source": [
    "def unique_values(column):\n",
    "    \"\"\"Gives you number of unique values and their frequencies\"\"\"\n",
    "    \n",
    "    print(f\"The number of unique {column} variable is:\", df[column].nunique())\n",
    "    print(f\"Frequency of {column} variable is:  \\n\", df[column].value_counts())\n",
    "\n",
    "unique_values(\"PRICE\")\n",
    "unique_values(\"SOURCE\")\n",
    "unique_values(\"COUNTRY\")\n",
    "unique_values(\"AGE\")"
   ]
  },
  {
   "cell_type": "code",
   "execution_count": 4,
   "id": "c77d77c5",
   "metadata": {
    "execution": {
     "iopub.execute_input": "2023-03-09T21:09:23.532637Z",
     "iopub.status.busy": "2023-03-09T21:09:23.532190Z",
     "iopub.status.idle": "2023-03-09T21:09:23.563591Z",
     "shell.execute_reply": "2023-03-09T21:09:23.562241Z"
    },
    "papermill": {
     "duration": 0.044474,
     "end_time": "2023-03-09T21:09:23.566355",
     "exception": false,
     "start_time": "2023-03-09T21:09:23.521881",
     "status": "completed"
    },
    "tags": []
   },
   "outputs": [
    {
     "data": {
      "text/html": [
       "<div>\n",
       "<style scoped>\n",
       "    .dataframe tbody tr th:only-of-type {\n",
       "        vertical-align: middle;\n",
       "    }\n",
       "\n",
       "    .dataframe tbody tr th {\n",
       "        vertical-align: top;\n",
       "    }\n",
       "\n",
       "    .dataframe thead tr th {\n",
       "        text-align: left;\n",
       "    }\n",
       "\n",
       "    .dataframe thead tr:last-of-type th {\n",
       "        text-align: right;\n",
       "    }\n",
       "</style>\n",
       "<table border=\"1\" class=\"dataframe\">\n",
       "  <thead>\n",
       "    <tr>\n",
       "      <th></th>\n",
       "      <th>PRICE</th>\n",
       "    </tr>\n",
       "    <tr>\n",
       "      <th></th>\n",
       "      <th>sum</th>\n",
       "    </tr>\n",
       "    <tr>\n",
       "      <th>COUNTRY</th>\n",
       "      <th></th>\n",
       "    </tr>\n",
       "  </thead>\n",
       "  <tbody>\n",
       "    <tr>\n",
       "      <th>usa</th>\n",
       "      <td>70225</td>\n",
       "    </tr>\n",
       "    <tr>\n",
       "      <th>bra</th>\n",
       "      <td>51354</td>\n",
       "    </tr>\n",
       "    <tr>\n",
       "      <th>tur</th>\n",
       "      <td>15689</td>\n",
       "    </tr>\n",
       "    <tr>\n",
       "      <th>deu</th>\n",
       "      <td>15485</td>\n",
       "    </tr>\n",
       "    <tr>\n",
       "      <th>fra</th>\n",
       "      <td>10177</td>\n",
       "    </tr>\n",
       "    <tr>\n",
       "      <th>can</th>\n",
       "      <td>7730</td>\n",
       "    </tr>\n",
       "  </tbody>\n",
       "</table>\n",
       "</div>"
      ],
      "text/plain": [
       "         PRICE\n",
       "           sum\n",
       "COUNTRY       \n",
       "usa      70225\n",
       "bra      51354\n",
       "tur      15689\n",
       "deu      15485\n",
       "fra      10177\n",
       "can       7730"
      ]
     },
     "execution_count": 4,
     "metadata": {},
     "output_type": "execute_result"
    }
   ],
   "source": [
    "df.groupby([\"COUNTRY\"]).agg({\"PRICE\":[\"sum\"]}).sort_values((\"PRICE\", \"sum\"), ascending = False) # Countries' revenues "
   ]
  },
  {
   "cell_type": "code",
   "execution_count": 5,
   "id": "5101d0f4",
   "metadata": {
    "execution": {
     "iopub.execute_input": "2023-03-09T21:09:23.586111Z",
     "iopub.status.busy": "2023-03-09T21:09:23.585341Z",
     "iopub.status.idle": "2023-03-09T21:09:23.599251Z",
     "shell.execute_reply": "2023-03-09T21:09:23.597874Z"
    },
    "papermill": {
     "duration": 0.027103,
     "end_time": "2023-03-09T21:09:23.602353",
     "exception": false,
     "start_time": "2023-03-09T21:09:23.575250",
     "status": "completed"
    },
    "tags": []
   },
   "outputs": [
    {
     "data": {
      "text/html": [
       "<div>\n",
       "<style scoped>\n",
       "    .dataframe tbody tr th:only-of-type {\n",
       "        vertical-align: middle;\n",
       "    }\n",
       "\n",
       "    .dataframe tbody tr th {\n",
       "        vertical-align: top;\n",
       "    }\n",
       "\n",
       "    .dataframe thead tr th {\n",
       "        text-align: left;\n",
       "    }\n",
       "\n",
       "    .dataframe thead tr:last-of-type th {\n",
       "        text-align: right;\n",
       "    }\n",
       "</style>\n",
       "<table border=\"1\" class=\"dataframe\">\n",
       "  <thead>\n",
       "    <tr>\n",
       "      <th></th>\n",
       "      <th>PRICE</th>\n",
       "    </tr>\n",
       "    <tr>\n",
       "      <th></th>\n",
       "      <th>count</th>\n",
       "    </tr>\n",
       "    <tr>\n",
       "      <th>SOURCE</th>\n",
       "      <th></th>\n",
       "    </tr>\n",
       "  </thead>\n",
       "  <tbody>\n",
       "    <tr>\n",
       "      <th>android</th>\n",
       "      <td>2974</td>\n",
       "    </tr>\n",
       "    <tr>\n",
       "      <th>ios</th>\n",
       "      <td>2026</td>\n",
       "    </tr>\n",
       "  </tbody>\n",
       "</table>\n",
       "</div>"
      ],
      "text/plain": [
       "        PRICE\n",
       "        count\n",
       "SOURCE       \n",
       "android  2974\n",
       "ios      2026"
      ]
     },
     "execution_count": 5,
     "metadata": {},
     "output_type": "execute_result"
    }
   ],
   "source": [
    "df.groupby([\"SOURCE\"]).agg({\"PRICE\":[\"count\"]}) # Sales numbers according to SOURCE"
   ]
  },
  {
   "cell_type": "code",
   "execution_count": 6,
   "id": "360bffe9",
   "metadata": {
    "execution": {
     "iopub.execute_input": "2023-03-09T21:09:23.621995Z",
     "iopub.status.busy": "2023-03-09T21:09:23.621538Z",
     "iopub.status.idle": "2023-03-09T21:09:23.637277Z",
     "shell.execute_reply": "2023-03-09T21:09:23.636049Z"
    },
    "papermill": {
     "duration": 0.028476,
     "end_time": "2023-03-09T21:09:23.639839",
     "exception": false,
     "start_time": "2023-03-09T21:09:23.611363",
     "status": "completed"
    },
    "tags": []
   },
   "outputs": [
    {
     "data": {
      "text/html": [
       "<div>\n",
       "<style scoped>\n",
       "    .dataframe tbody tr th:only-of-type {\n",
       "        vertical-align: middle;\n",
       "    }\n",
       "\n",
       "    .dataframe tbody tr th {\n",
       "        vertical-align: top;\n",
       "    }\n",
       "\n",
       "    .dataframe thead tr th {\n",
       "        text-align: left;\n",
       "    }\n",
       "\n",
       "    .dataframe thead tr:last-of-type th {\n",
       "        text-align: right;\n",
       "    }\n",
       "</style>\n",
       "<table border=\"1\" class=\"dataframe\">\n",
       "  <thead>\n",
       "    <tr>\n",
       "      <th></th>\n",
       "      <th>PRICE</th>\n",
       "    </tr>\n",
       "    <tr>\n",
       "      <th></th>\n",
       "      <th>mean</th>\n",
       "    </tr>\n",
       "    <tr>\n",
       "      <th>COUNTRY</th>\n",
       "      <th></th>\n",
       "    </tr>\n",
       "  </thead>\n",
       "  <tbody>\n",
       "    <tr>\n",
       "      <th>bra</th>\n",
       "      <td>34.327540</td>\n",
       "    </tr>\n",
       "    <tr>\n",
       "      <th>can</th>\n",
       "      <td>33.608696</td>\n",
       "    </tr>\n",
       "    <tr>\n",
       "      <th>deu</th>\n",
       "      <td>34.032967</td>\n",
       "    </tr>\n",
       "    <tr>\n",
       "      <th>fra</th>\n",
       "      <td>33.587459</td>\n",
       "    </tr>\n",
       "    <tr>\n",
       "      <th>tur</th>\n",
       "      <td>34.787140</td>\n",
       "    </tr>\n",
       "    <tr>\n",
       "      <th>usa</th>\n",
       "      <td>34.007264</td>\n",
       "    </tr>\n",
       "  </tbody>\n",
       "</table>\n",
       "</div>"
      ],
      "text/plain": [
       "             PRICE\n",
       "              mean\n",
       "COUNTRY           \n",
       "bra      34.327540\n",
       "can      33.608696\n",
       "deu      34.032967\n",
       "fra      33.587459\n",
       "tur      34.787140\n",
       "usa      34.007264"
      ]
     },
     "execution_count": 6,
     "metadata": {},
     "output_type": "execute_result"
    }
   ],
   "source": [
    "df.groupby([\"COUNTRY\"]).agg({\"PRICE\":[\"mean\"]}) # Sales value averages according to countries"
   ]
  },
  {
   "cell_type": "code",
   "execution_count": 7,
   "id": "e1c35d85",
   "metadata": {
    "execution": {
     "iopub.execute_input": "2023-03-09T21:09:23.660407Z",
     "iopub.status.busy": "2023-03-09T21:09:23.659265Z",
     "iopub.status.idle": "2023-03-09T21:09:23.674698Z",
     "shell.execute_reply": "2023-03-09T21:09:23.673441Z"
    },
    "papermill": {
     "duration": 0.028609,
     "end_time": "2023-03-09T21:09:23.677472",
     "exception": false,
     "start_time": "2023-03-09T21:09:23.648863",
     "status": "completed"
    },
    "tags": []
   },
   "outputs": [
    {
     "data": {
      "text/html": [
       "<div>\n",
       "<style scoped>\n",
       "    .dataframe tbody tr th:only-of-type {\n",
       "        vertical-align: middle;\n",
       "    }\n",
       "\n",
       "    .dataframe tbody tr th {\n",
       "        vertical-align: top;\n",
       "    }\n",
       "\n",
       "    .dataframe thead tr th {\n",
       "        text-align: left;\n",
       "    }\n",
       "\n",
       "    .dataframe thead tr:last-of-type th {\n",
       "        text-align: right;\n",
       "    }\n",
       "</style>\n",
       "<table border=\"1\" class=\"dataframe\">\n",
       "  <thead>\n",
       "    <tr>\n",
       "      <th></th>\n",
       "      <th>PRICE</th>\n",
       "    </tr>\n",
       "    <tr>\n",
       "      <th></th>\n",
       "      <th>mean</th>\n",
       "    </tr>\n",
       "    <tr>\n",
       "      <th>SOURCE</th>\n",
       "      <th></th>\n",
       "    </tr>\n",
       "  </thead>\n",
       "  <tbody>\n",
       "    <tr>\n",
       "      <th>android</th>\n",
       "      <td>34.174849</td>\n",
       "    </tr>\n",
       "    <tr>\n",
       "      <th>ios</th>\n",
       "      <td>34.069102</td>\n",
       "    </tr>\n",
       "  </tbody>\n",
       "</table>\n",
       "</div>"
      ],
      "text/plain": [
       "             PRICE\n",
       "              mean\n",
       "SOURCE            \n",
       "android  34.174849\n",
       "ios      34.069102"
      ]
     },
     "execution_count": 7,
     "metadata": {},
     "output_type": "execute_result"
    }
   ],
   "source": [
    "df.groupby([\"SOURCE\"]).agg({\"PRICE\":[\"mean\"]})  # Sales value averages according to SOURCE"
   ]
  },
  {
   "cell_type": "code",
   "execution_count": 8,
   "id": "ec2bad13",
   "metadata": {
    "execution": {
     "iopub.execute_input": "2023-03-09T21:09:23.698225Z",
     "iopub.status.busy": "2023-03-09T21:09:23.697229Z",
     "iopub.status.idle": "2023-03-09T21:09:23.725358Z",
     "shell.execute_reply": "2023-03-09T21:09:23.724041Z"
    },
    "papermill": {
     "duration": 0.04158,
     "end_time": "2023-03-09T21:09:23.728201",
     "exception": false,
     "start_time": "2023-03-09T21:09:23.686621",
     "status": "completed"
    },
    "tags": []
   },
   "outputs": [
    {
     "data": {
      "text/html": [
       "<div>\n",
       "<style scoped>\n",
       "    .dataframe tbody tr th:only-of-type {\n",
       "        vertical-align: middle;\n",
       "    }\n",
       "\n",
       "    .dataframe tbody tr th {\n",
       "        vertical-align: top;\n",
       "    }\n",
       "\n",
       "    .dataframe thead th {\n",
       "        text-align: right;\n",
       "    }\n",
       "</style>\n",
       "<table border=\"1\" class=\"dataframe\">\n",
       "  <thead>\n",
       "    <tr style=\"text-align: right;\">\n",
       "      <th>SOURCE</th>\n",
       "      <th>android</th>\n",
       "      <th>ios</th>\n",
       "    </tr>\n",
       "    <tr>\n",
       "      <th>COUNTRY</th>\n",
       "      <th></th>\n",
       "      <th></th>\n",
       "    </tr>\n",
       "  </thead>\n",
       "  <tbody>\n",
       "    <tr>\n",
       "      <th>bra</th>\n",
       "      <td>34.387029</td>\n",
       "      <td>34.222222</td>\n",
       "    </tr>\n",
       "    <tr>\n",
       "      <th>can</th>\n",
       "      <td>33.330709</td>\n",
       "      <td>33.951456</td>\n",
       "    </tr>\n",
       "    <tr>\n",
       "      <th>deu</th>\n",
       "      <td>33.869888</td>\n",
       "      <td>34.268817</td>\n",
       "    </tr>\n",
       "    <tr>\n",
       "      <th>fra</th>\n",
       "      <td>34.312500</td>\n",
       "      <td>32.776224</td>\n",
       "    </tr>\n",
       "    <tr>\n",
       "      <th>tur</th>\n",
       "      <td>36.229437</td>\n",
       "      <td>33.272727</td>\n",
       "    </tr>\n",
       "    <tr>\n",
       "      <th>usa</th>\n",
       "      <td>33.760357</td>\n",
       "      <td>34.371703</td>\n",
       "    </tr>\n",
       "  </tbody>\n",
       "</table>\n",
       "</div>"
      ],
      "text/plain": [
       "SOURCE     android        ios\n",
       "COUNTRY                      \n",
       "bra      34.387029  34.222222\n",
       "can      33.330709  33.951456\n",
       "deu      33.869888  34.268817\n",
       "fra      34.312500  32.776224\n",
       "tur      36.229437  33.272727\n",
       "usa      33.760357  34.371703"
      ]
     },
     "execution_count": 8,
     "metadata": {},
     "output_type": "execute_result"
    }
   ],
   "source": [
    "\n",
    "df.pivot_table(\"PRICE\", \"COUNTRY\", \"SOURCE\", aggfunc=\"mean\") # Sales value averages according to SOURCE-PRICE group"
   ]
  },
  {
   "cell_type": "code",
   "execution_count": 9,
   "id": "519d6bbe",
   "metadata": {
    "execution": {
     "iopub.execute_input": "2023-03-09T21:09:23.749650Z",
     "iopub.status.busy": "2023-03-09T21:09:23.749240Z",
     "iopub.status.idle": "2023-03-09T21:09:23.770436Z",
     "shell.execute_reply": "2023-03-09T21:09:23.769314Z"
    },
    "papermill": {
     "duration": 0.034946,
     "end_time": "2023-03-09T21:09:23.773044",
     "exception": false,
     "start_time": "2023-03-09T21:09:23.738098",
     "status": "completed"
    },
    "tags": []
   },
   "outputs": [
    {
     "data": {
      "text/html": [
       "<div>\n",
       "<style scoped>\n",
       "    .dataframe tbody tr th:only-of-type {\n",
       "        vertical-align: middle;\n",
       "    }\n",
       "\n",
       "    .dataframe tbody tr th {\n",
       "        vertical-align: top;\n",
       "    }\n",
       "\n",
       "    .dataframe thead th {\n",
       "        text-align: right;\n",
       "    }\n",
       "</style>\n",
       "<table border=\"1\" class=\"dataframe\">\n",
       "  <thead>\n",
       "    <tr style=\"text-align: right;\">\n",
       "      <th></th>\n",
       "      <th></th>\n",
       "      <th></th>\n",
       "      <th></th>\n",
       "      <th>PRICE</th>\n",
       "    </tr>\n",
       "    <tr>\n",
       "      <th>COUNTRY</th>\n",
       "      <th>SOURCE</th>\n",
       "      <th>SEX</th>\n",
       "      <th>AGE</th>\n",
       "      <th></th>\n",
       "    </tr>\n",
       "  </thead>\n",
       "  <tbody>\n",
       "    <tr>\n",
       "      <th>bra</th>\n",
       "      <th>android</th>\n",
       "      <th>male</th>\n",
       "      <th>46</th>\n",
       "      <td>59.0</td>\n",
       "    </tr>\n",
       "    <tr>\n",
       "      <th>usa</th>\n",
       "      <th>android</th>\n",
       "      <th>male</th>\n",
       "      <th>36</th>\n",
       "      <td>59.0</td>\n",
       "    </tr>\n",
       "    <tr>\n",
       "      <th>fra</th>\n",
       "      <th>android</th>\n",
       "      <th>female</th>\n",
       "      <th>24</th>\n",
       "      <td>59.0</td>\n",
       "    </tr>\n",
       "    <tr>\n",
       "      <th>usa</th>\n",
       "      <th>ios</th>\n",
       "      <th>male</th>\n",
       "      <th>32</th>\n",
       "      <td>54.0</td>\n",
       "    </tr>\n",
       "    <tr>\n",
       "      <th>deu</th>\n",
       "      <th>android</th>\n",
       "      <th>female</th>\n",
       "      <th>36</th>\n",
       "      <td>49.0</td>\n",
       "    </tr>\n",
       "  </tbody>\n",
       "</table>\n",
       "</div>"
      ],
      "text/plain": [
       "                            PRICE\n",
       "COUNTRY SOURCE  SEX    AGE       \n",
       "bra     android male   46    59.0\n",
       "usa     android male   36    59.0\n",
       "fra     android female 24    59.0\n",
       "usa     ios     male   32    54.0\n",
       "deu     android female 36    49.0"
      ]
     },
     "execution_count": 9,
     "metadata": {},
     "output_type": "execute_result"
    }
   ],
   "source": [
    "# Sales value averages grouped by COUNTRY, SOURCE, SEX, AGE sorted in a descending order\n",
    "\n",
    "agg_df = df.groupby(by=[\"COUNTRY\", 'SOURCE', \"SEX\", \"AGE\"]).agg({\"PRICE\": \"mean\"}).sort_values(by=\"PRICE\", ascending=False) \n",
    "agg_df.head()\n"
   ]
  },
  {
   "cell_type": "code",
   "execution_count": 10,
   "id": "d4ab9146",
   "metadata": {
    "execution": {
     "iopub.execute_input": "2023-03-09T21:09:23.794976Z",
     "iopub.status.busy": "2023-03-09T21:09:23.793707Z",
     "iopub.status.idle": "2023-03-09T21:09:23.809663Z",
     "shell.execute_reply": "2023-03-09T21:09:23.808211Z"
    },
    "papermill": {
     "duration": 0.029817,
     "end_time": "2023-03-09T21:09:23.812577",
     "exception": false,
     "start_time": "2023-03-09T21:09:23.782760",
     "status": "completed"
    },
    "tags": []
   },
   "outputs": [
    {
     "data": {
      "text/html": [
       "<div>\n",
       "<style scoped>\n",
       "    .dataframe tbody tr th:only-of-type {\n",
       "        vertical-align: middle;\n",
       "    }\n",
       "\n",
       "    .dataframe tbody tr th {\n",
       "        vertical-align: top;\n",
       "    }\n",
       "\n",
       "    .dataframe thead th {\n",
       "        text-align: right;\n",
       "    }\n",
       "</style>\n",
       "<table border=\"1\" class=\"dataframe\">\n",
       "  <thead>\n",
       "    <tr style=\"text-align: right;\">\n",
       "      <th></th>\n",
       "      <th>COUNTRY</th>\n",
       "      <th>SOURCE</th>\n",
       "      <th>SEX</th>\n",
       "      <th>AGE</th>\n",
       "      <th>PRICE</th>\n",
       "    </tr>\n",
       "  </thead>\n",
       "  <tbody>\n",
       "    <tr>\n",
       "      <th>0</th>\n",
       "      <td>bra</td>\n",
       "      <td>android</td>\n",
       "      <td>male</td>\n",
       "      <td>46</td>\n",
       "      <td>59.0</td>\n",
       "    </tr>\n",
       "    <tr>\n",
       "      <th>1</th>\n",
       "      <td>usa</td>\n",
       "      <td>android</td>\n",
       "      <td>male</td>\n",
       "      <td>36</td>\n",
       "      <td>59.0</td>\n",
       "    </tr>\n",
       "    <tr>\n",
       "      <th>2</th>\n",
       "      <td>fra</td>\n",
       "      <td>android</td>\n",
       "      <td>female</td>\n",
       "      <td>24</td>\n",
       "      <td>59.0</td>\n",
       "    </tr>\n",
       "    <tr>\n",
       "      <th>3</th>\n",
       "      <td>usa</td>\n",
       "      <td>ios</td>\n",
       "      <td>male</td>\n",
       "      <td>32</td>\n",
       "      <td>54.0</td>\n",
       "    </tr>\n",
       "    <tr>\n",
       "      <th>4</th>\n",
       "      <td>deu</td>\n",
       "      <td>android</td>\n",
       "      <td>female</td>\n",
       "      <td>36</td>\n",
       "      <td>49.0</td>\n",
       "    </tr>\n",
       "  </tbody>\n",
       "</table>\n",
       "</div>"
      ],
      "text/plain": [
       "  COUNTRY   SOURCE     SEX  AGE  PRICE\n",
       "0     bra  android    male   46   59.0\n",
       "1     usa  android    male   36   59.0\n",
       "2     fra  android  female   24   59.0\n",
       "3     usa      ios    male   32   54.0\n",
       "4     deu  android  female   36   49.0"
      ]
     },
     "execution_count": 10,
     "metadata": {},
     "output_type": "execute_result"
    }
   ],
   "source": [
    "agg_df.reset_index(inplace=True) # All the variables here are indexes except than PRICE column, so we want to make them variables\n",
    "agg_df.head()\n"
   ]
  },
  {
   "cell_type": "code",
   "execution_count": 11,
   "id": "74554a8b",
   "metadata": {
    "execution": {
     "iopub.execute_input": "2023-03-09T21:09:23.835170Z",
     "iopub.status.busy": "2023-03-09T21:09:23.833871Z",
     "iopub.status.idle": "2023-03-09T21:09:23.844342Z",
     "shell.execute_reply": "2023-03-09T21:09:23.842918Z"
    },
    "papermill": {
     "duration": 0.02433,
     "end_time": "2023-03-09T21:09:23.846928",
     "exception": false,
     "start_time": "2023-03-09T21:09:23.822598",
     "status": "completed"
    },
    "tags": []
   },
   "outputs": [
    {
     "data": {
      "text/plain": [
       "15    22\n",
       "16    21\n",
       "17    19\n",
       "19    15\n",
       "21    15\n",
       "18    15\n",
       "24    14\n",
       "26    14\n",
       "20    14\n",
       "23    14\n",
       "25    14\n",
       "22    13\n",
       "31    11\n",
       "27    11\n",
       "32     9\n",
       "28     9\n",
       "34     8\n",
       "30     8\n",
       "42     8\n",
       "33     8\n",
       "29     8\n",
       "35     7\n",
       "37     7\n",
       "38     6\n",
       "36     6\n",
       "47     5\n",
       "51     4\n",
       "49     4\n",
       "41     4\n",
       "44     4\n",
       "43     4\n",
       "46     3\n",
       "50     3\n",
       "40     2\n",
       "56     2\n",
       "55     2\n",
       "59     2\n",
       "45     2\n",
       "65     2\n",
       "53     2\n",
       "57     2\n",
       "39     1\n",
       "61     1\n",
       "52     1\n",
       "54     1\n",
       "66     1\n",
       "Name: AGE, dtype: int64"
      ]
     },
     "execution_count": 11,
     "metadata": {},
     "output_type": "execute_result"
    }
   ],
   "source": [
    "agg_df[\"AGE\"].value_counts()"
   ]
  },
  {
   "cell_type": "markdown",
   "id": "342a012c",
   "metadata": {
    "papermill": {
     "duration": 0.009591,
     "end_time": "2023-03-09T21:09:23.866678",
     "exception": false,
     "start_time": "2023-03-09T21:09:23.857087",
     "status": "completed"
    },
    "tags": []
   },
   "source": [
    "There were so many unique AGE variables so we had to group them in proper age intervals to analyze the data. Here, proper is the keyword, we need to talk to the company to understand proper age intervals, because it can differ according to companies main focus."
   ]
  },
  {
   "cell_type": "code",
   "execution_count": 12,
   "id": "f7339584",
   "metadata": {
    "execution": {
     "iopub.execute_input": "2023-03-09T21:09:23.889103Z",
     "iopub.status.busy": "2023-03-09T21:09:23.888331Z",
     "iopub.status.idle": "2023-03-09T21:09:23.900775Z",
     "shell.execute_reply": "2023-03-09T21:09:23.899790Z"
    },
    "papermill": {
     "duration": 0.026678,
     "end_time": "2023-03-09T21:09:23.903381",
     "exception": false,
     "start_time": "2023-03-09T21:09:23.876703",
     "status": "completed"
    },
    "tags": []
   },
   "outputs": [
    {
     "data": {
      "text/plain": [
       "0_18     161\n",
       "19_23     70\n",
       "24_30     46\n",
       "31_40     43\n",
       "41_70     28\n",
       "Name: AGE2, dtype: int64"
      ]
     },
     "execution_count": 12,
     "metadata": {},
     "output_type": "execute_result"
    }
   ],
   "source": [
    "\n",
    "\n",
    "agg_df[\"AGE2\"] = pd.cut(df[\"AGE\"], [0, 18, 23, 30, 40, 70], labels=[\"0_18\", \"19_23\",'24_30','31_40', '41_70']) \n",
    "agg_df[\"AGE2\"].value_counts()\n",
    "\n"
   ]
  },
  {
   "cell_type": "markdown",
   "id": "26d9cca2",
   "metadata": {
    "papermill": {
     "duration": 0.009645,
     "end_time": "2023-03-09T21:09:23.923413",
     "exception": false,
     "start_time": "2023-03-09T21:09:23.913768",
     "status": "completed"
    },
    "tags": []
   },
   "source": [
    "We must create a new variable called customer_level_based to combine all categorical variables in the datasets"
   ]
  },
  {
   "cell_type": "code",
   "execution_count": 13,
   "id": "b0de017e",
   "metadata": {
    "execution": {
     "iopub.execute_input": "2023-03-09T21:09:23.945789Z",
     "iopub.status.busy": "2023-03-09T21:09:23.945040Z",
     "iopub.status.idle": "2023-03-09T21:09:23.968542Z",
     "shell.execute_reply": "2023-03-09T21:09:23.967366Z"
    },
    "papermill": {
     "duration": 0.037776,
     "end_time": "2023-03-09T21:09:23.971266",
     "exception": false,
     "start_time": "2023-03-09T21:09:23.933490",
     "status": "completed"
    },
    "tags": []
   },
   "outputs": [
    {
     "data": {
      "text/plain": [
       "0        BRA_ANDROID_male_0_18\n",
       "1        USA_ANDROID_male_0_18\n",
       "2      FRA_ANDROID_female_0_18\n",
       "3            USA_IOS_male_0_18\n",
       "4      DEU_ANDROID_female_0_18\n",
       "                ...           \n",
       "343        USA_IOS_female_0_18\n",
       "344        USA_IOS_female_0_18\n",
       "345    CAN_ANDROID_female_0_18\n",
       "346      FRA_ANDROID_male_0_18\n",
       "347      DEU_ANDROID_male_0_18\n",
       "Name: CUSTOMER_LEVEL_BASED, Length: 348, dtype: object"
      ]
     },
     "execution_count": 13,
     "metadata": {},
     "output_type": "execute_result"
    }
   ],
   "source": [
    "# Rather than the code below, we can create a general code that can be used in any datasets\n",
    "agg_df[\"CUSTOMER_LEVEL_BASED\"] = [agg_df[\"COUNTRY\"][i].upper() + \"_\" + agg_df[\"SOURCE\"][i].upper() + \"_\" + agg_df[\"SEX\"][i] + \"_\" + agg_df[\"AGE2\"][i] for i in agg_df.index]\n",
    "\n",
    "agg_df[\"CUSTOMER_LEVEL_BASED\"]\n"
   ]
  },
  {
   "cell_type": "markdown",
   "id": "721a980a",
   "metadata": {
    "papermill": {
     "duration": 0.009916,
     "end_time": "2023-03-09T21:09:23.991396",
     "exception": false,
     "start_time": "2023-03-09T21:09:23.981480",
     "status": "completed"
    },
    "tags": []
   },
   "source": [
    "We need to group the repetitive values in customer_level_based. For example there are \"USA_IOS_FEMALE\" more than 1, so we have to group them according their income mean to have one unique variable"
   ]
  },
  {
   "cell_type": "code",
   "execution_count": 14,
   "id": "ada74e0e",
   "metadata": {
    "execution": {
     "iopub.execute_input": "2023-03-09T21:09:24.014932Z",
     "iopub.status.busy": "2023-03-09T21:09:24.014147Z",
     "iopub.status.idle": "2023-03-09T21:09:24.031499Z",
     "shell.execute_reply": "2023-03-09T21:09:24.030198Z"
    },
    "papermill": {
     "duration": 0.031877,
     "end_time": "2023-03-09T21:09:24.034201",
     "exception": false,
     "start_time": "2023-03-09T21:09:24.002324",
     "status": "completed"
    },
    "tags": []
   },
   "outputs": [
    {
     "data": {
      "text/html": [
       "<div>\n",
       "<style scoped>\n",
       "    .dataframe tbody tr th:only-of-type {\n",
       "        vertical-align: middle;\n",
       "    }\n",
       "\n",
       "    .dataframe tbody tr th {\n",
       "        vertical-align: top;\n",
       "    }\n",
       "\n",
       "    .dataframe thead th {\n",
       "        text-align: right;\n",
       "    }\n",
       "</style>\n",
       "<table border=\"1\" class=\"dataframe\">\n",
       "  <thead>\n",
       "    <tr style=\"text-align: right;\">\n",
       "      <th></th>\n",
       "      <th>CUSTOMER_LEVEL_BASED</th>\n",
       "      <th>PRICE</th>\n",
       "    </tr>\n",
       "  </thead>\n",
       "  <tbody>\n",
       "    <tr>\n",
       "      <th>0</th>\n",
       "      <td>BRA_ANDROID_female_0_18</td>\n",
       "      <td>35.747624</td>\n",
       "    </tr>\n",
       "    <tr>\n",
       "      <th>1</th>\n",
       "      <td>BRA_ANDROID_female_19_23</td>\n",
       "      <td>34.398997</td>\n",
       "    </tr>\n",
       "    <tr>\n",
       "      <th>2</th>\n",
       "      <td>BRA_ANDROID_female_24_30</td>\n",
       "      <td>34.571429</td>\n",
       "    </tr>\n",
       "    <tr>\n",
       "      <th>3</th>\n",
       "      <td>BRA_ANDROID_female_31_40</td>\n",
       "      <td>30.875000</td>\n",
       "    </tr>\n",
       "    <tr>\n",
       "      <th>4</th>\n",
       "      <td>BRA_ANDROID_female_41_70</td>\n",
       "      <td>36.682540</td>\n",
       "    </tr>\n",
       "    <tr>\n",
       "      <th>...</th>\n",
       "      <td>...</td>\n",
       "      <td>...</td>\n",
       "    </tr>\n",
       "    <tr>\n",
       "      <th>94</th>\n",
       "      <td>USA_IOS_male_0_18</td>\n",
       "      <td>38.239720</td>\n",
       "    </tr>\n",
       "    <tr>\n",
       "      <th>95</th>\n",
       "      <td>USA_IOS_male_19_23</td>\n",
       "      <td>33.504596</td>\n",
       "    </tr>\n",
       "    <tr>\n",
       "      <th>96</th>\n",
       "      <td>USA_IOS_male_24_30</td>\n",
       "      <td>37.623188</td>\n",
       "    </tr>\n",
       "    <tr>\n",
       "      <th>97</th>\n",
       "      <td>USA_IOS_male_31_40</td>\n",
       "      <td>30.428571</td>\n",
       "    </tr>\n",
       "    <tr>\n",
       "      <th>98</th>\n",
       "      <td>USA_IOS_male_41_70</td>\n",
       "      <td>38.534884</td>\n",
       "    </tr>\n",
       "  </tbody>\n",
       "</table>\n",
       "<p>99 rows × 2 columns</p>\n",
       "</div>"
      ],
      "text/plain": [
       "        CUSTOMER_LEVEL_BASED      PRICE\n",
       "0    BRA_ANDROID_female_0_18  35.747624\n",
       "1   BRA_ANDROID_female_19_23  34.398997\n",
       "2   BRA_ANDROID_female_24_30  34.571429\n",
       "3   BRA_ANDROID_female_31_40  30.875000\n",
       "4   BRA_ANDROID_female_41_70  36.682540\n",
       "..                       ...        ...\n",
       "94         USA_IOS_male_0_18  38.239720\n",
       "95        USA_IOS_male_19_23  33.504596\n",
       "96        USA_IOS_male_24_30  37.623188\n",
       "97        USA_IOS_male_31_40  30.428571\n",
       "98        USA_IOS_male_41_70  38.534884\n",
       "\n",
       "[99 rows x 2 columns]"
      ]
     },
     "execution_count": 14,
     "metadata": {},
     "output_type": "execute_result"
    }
   ],
   "source": [
    "agg_df2 = agg_df.groupby(\"CUSTOMER_LEVEL_BASED\").agg({\"PRICE\": \"mean\"})\n",
    "agg_df2.reset_index(inplace = True)\n",
    "agg_df2\n"
   ]
  },
  {
   "cell_type": "markdown",
   "id": "bd21f371",
   "metadata": {
    "papermill": {
     "duration": 0.010066,
     "end_time": "2023-03-09T21:09:24.054608",
     "exception": false,
     "start_time": "2023-03-09T21:09:24.044542",
     "status": "completed"
    },
    "tags": []
   },
   "source": [
    "Since there are so many unique price values we also need to group them by their price to segments A,B,C,D (A: highest income returns). If you dont have insight about variable itself, qcut functions can save the day."
   ]
  },
  {
   "cell_type": "code",
   "execution_count": 15,
   "id": "76ca23e7",
   "metadata": {
    "execution": {
     "iopub.execute_input": "2023-03-09T21:09:24.078058Z",
     "iopub.status.busy": "2023-03-09T21:09:24.077197Z",
     "iopub.status.idle": "2023-03-09T21:09:24.090649Z",
     "shell.execute_reply": "2023-03-09T21:09:24.089281Z"
    },
    "papermill": {
     "duration": 0.028376,
     "end_time": "2023-03-09T21:09:24.093493",
     "exception": false,
     "start_time": "2023-03-09T21:09:24.065117",
     "status": "completed"
    },
    "tags": []
   },
   "outputs": [
    {
     "data": {
      "text/plain": [
       "D    25\n",
       "C    25\n",
       "A    25\n",
       "B    24\n",
       "Name: SEGMENT, dtype: int64"
      ]
     },
     "execution_count": 15,
     "metadata": {},
     "output_type": "execute_result"
    }
   ],
   "source": [
    "\n",
    "agg_df2[\"SEGMENT\"] = pd.qcut(agg_df2[\"PRICE\"], 4, labels =[\"D\", \"C\", \"B\", \"A\"])\n",
    "agg_df2[\"SEGMENT\"].value_counts()"
   ]
  },
  {
   "cell_type": "code",
   "execution_count": 16,
   "id": "3ad46efd",
   "metadata": {
    "execution": {
     "iopub.execute_input": "2023-03-09T21:09:24.117273Z",
     "iopub.status.busy": "2023-03-09T21:09:24.116191Z",
     "iopub.status.idle": "2023-03-09T21:09:24.133781Z",
     "shell.execute_reply": "2023-03-09T21:09:24.132493Z"
    },
    "papermill": {
     "duration": 0.032966,
     "end_time": "2023-03-09T21:09:24.136991",
     "exception": false,
     "start_time": "2023-03-09T21:09:24.104025",
     "status": "completed"
    },
    "tags": []
   },
   "outputs": [
    {
     "data": {
      "text/html": [
       "<div>\n",
       "<style scoped>\n",
       "    .dataframe tbody tr th:only-of-type {\n",
       "        vertical-align: middle;\n",
       "    }\n",
       "\n",
       "    .dataframe tbody tr th {\n",
       "        vertical-align: top;\n",
       "    }\n",
       "\n",
       "    .dataframe thead tr th {\n",
       "        text-align: left;\n",
       "    }\n",
       "\n",
       "    .dataframe thead tr:last-of-type th {\n",
       "        text-align: right;\n",
       "    }\n",
       "</style>\n",
       "<table border=\"1\" class=\"dataframe\">\n",
       "  <thead>\n",
       "    <tr>\n",
       "      <th></th>\n",
       "      <th colspan=\"2\" halign=\"left\">PRICE</th>\n",
       "    </tr>\n",
       "    <tr>\n",
       "      <th></th>\n",
       "      <th>mean</th>\n",
       "      <th>count</th>\n",
       "    </tr>\n",
       "    <tr>\n",
       "      <th>SEGMENT</th>\n",
       "      <th></th>\n",
       "      <th></th>\n",
       "    </tr>\n",
       "  </thead>\n",
       "  <tbody>\n",
       "    <tr>\n",
       "      <th>A</th>\n",
       "      <td>38.520119</td>\n",
       "      <td>25</td>\n",
       "    </tr>\n",
       "    <tr>\n",
       "      <th>B</th>\n",
       "      <td>35.355603</td>\n",
       "      <td>24</td>\n",
       "    </tr>\n",
       "    <tr>\n",
       "      <th>C</th>\n",
       "      <td>33.019383</td>\n",
       "      <td>25</td>\n",
       "    </tr>\n",
       "    <tr>\n",
       "      <th>D</th>\n",
       "      <td>30.501161</td>\n",
       "      <td>25</td>\n",
       "    </tr>\n",
       "  </tbody>\n",
       "</table>\n",
       "</div>"
      ],
      "text/plain": [
       "             PRICE      \n",
       "              mean count\n",
       "SEGMENT                 \n",
       "A        38.520119    25\n",
       "B        35.355603    24\n",
       "C        33.019383    25\n",
       "D        30.501161    25"
      ]
     },
     "execution_count": 16,
     "metadata": {},
     "output_type": "execute_result"
    }
   ],
   "source": [
    "agg_df2.groupby(\"SEGMENT\").agg([\"mean\",\"count\"]).sort_values(\"SEGMENT\", ascending=False)\n",
    "\n",
    "\n",
    "\n"
   ]
  },
  {
   "cell_type": "markdown",
   "id": "e3cbf486",
   "metadata": {
    "papermill": {
     "duration": 0.010771,
     "end_time": "2023-03-09T21:09:24.158828",
     "exception": false,
     "start_time": "2023-03-09T21:09:24.148057",
     "status": "completed"
    },
    "tags": []
   },
   "source": [
    "The table above shows us how these segment differs from each other. if a customer is in segment A we can say that on average it will generate 38.5$ income"
   ]
  },
  {
   "cell_type": "code",
   "execution_count": 17,
   "id": "49b5c56e",
   "metadata": {
    "execution": {
     "iopub.execute_input": "2023-03-09T21:09:24.182391Z",
     "iopub.status.busy": "2023-03-09T21:09:24.181955Z",
     "iopub.status.idle": "2023-03-09T21:09:24.554479Z",
     "shell.execute_reply": "2023-03-09T21:09:24.553019Z"
    },
    "papermill": {
     "duration": 0.387623,
     "end_time": "2023-03-09T21:09:24.557285",
     "exception": false,
     "start_time": "2023-03-09T21:09:24.169662",
     "status": "completed"
    },
    "tags": []
   },
   "outputs": [
    {
     "data": {
      "text/plain": [
       "<function matplotlib.pyplot.show(close=None, block=None)>"
      ]
     },
     "execution_count": 17,
     "metadata": {},
     "output_type": "execute_result"
    },
    {
     "data": {
      "image/png": "[encoded data removed]",
      "text/plain": [
       "<Figure size 640x480 with 1 Axes>"
      ]
     },
     "metadata": {},
     "output_type": "display_data"
    }
   ],
   "source": [
    "agg_df2.groupby(\"SEGMENT\").agg([\"mean\",\"count\"]).plot(kind=\"bar\")\n",
    "plt.show"
   ]
  },
  {
   "cell_type": "markdown",
   "id": "e9a54fd7",
   "metadata": {
    "papermill": {
     "duration": 0.010902,
     "end_time": "2023-03-09T21:09:24.579757",
     "exception": false,
     "start_time": "2023-03-09T21:09:24.568855",
     "status": "completed"
    },
    "tags": []
   },
   "source": [
    "# Question 1) \"What segment does a 33-year-old Turkish woman using Android belong to and how much revenue is she expected to generate on average?"
   ]
  },
  {
   "cell_type": "code",
   "execution_count": 18,
   "id": "270402e2",
   "metadata": {
    "execution": {
     "iopub.execute_input": "2023-03-09T21:09:24.604863Z",
     "iopub.status.busy": "2023-03-09T21:09:24.604419Z",
     "iopub.status.idle": "2023-03-09T21:09:24.616111Z",
     "shell.execute_reply": "2023-03-09T21:09:24.615254Z"
    },
    "papermill": {
     "duration": 0.026771,
     "end_time": "2023-03-09T21:09:24.618351",
     "exception": false,
     "start_time": "2023-03-09T21:09:24.591580",
     "status": "completed"
    },
    "tags": []
   },
   "outputs": [
    {
     "data": {
      "text/html": [
       "<div>\n",
       "<style scoped>\n",
       "    .dataframe tbody tr th:only-of-type {\n",
       "        vertical-align: middle;\n",
       "    }\n",
       "\n",
       "    .dataframe tbody tr th {\n",
       "        vertical-align: top;\n",
       "    }\n",
       "\n",
       "    .dataframe thead th {\n",
       "        text-align: right;\n",
       "    }\n",
       "</style>\n",
       "<table border=\"1\" class=\"dataframe\">\n",
       "  <thead>\n",
       "    <tr style=\"text-align: right;\">\n",
       "      <th></th>\n",
       "      <th>CUSTOMER_LEVEL_BASED</th>\n",
       "      <th>PRICE</th>\n",
       "      <th>SEGMENT</th>\n",
       "    </tr>\n",
       "  </thead>\n",
       "  <tbody>\n",
       "    <tr>\n",
       "      <th>65</th>\n",
       "      <td>TUR_ANDROID_female_31_40</td>\n",
       "      <td>31.0</td>\n",
       "      <td>D</td>\n",
       "    </tr>\n",
       "  </tbody>\n",
       "</table>\n",
       "</div>"
      ],
      "text/plain": [
       "        CUSTOMER_LEVEL_BASED  PRICE SEGMENT\n",
       "65  TUR_ANDROID_female_31_40   31.0       D"
      ]
     },
     "execution_count": 18,
     "metadata": {},
     "output_type": "execute_result"
    }
   ],
   "source": [
    "agg_df2.loc[agg_df2[\"CUSTOMER_LEVEL_BASED\"] == \"TUR_ANDROID_female_31_40\"]"
   ]
  },
  {
   "cell_type": "markdown",
   "id": "2645974c",
   "metadata": {
    "papermill": {
     "duration": 0.010835,
     "end_time": "2023-03-09T21:09:24.640477",
     "exception": false,
     "start_time": "2023-03-09T21:09:24.629642",
     "status": "completed"
    },
    "tags": []
   },
   "source": [
    "# Question 2) What segment does a 35-year-old French woman using iOS belong to and how much revenue is she expected to generate on average?"
   ]
  },
  {
   "cell_type": "code",
   "execution_count": 19,
   "id": "f7c50c64",
   "metadata": {
    "execution": {
     "iopub.execute_input": "2023-03-09T21:09:24.665538Z",
     "iopub.status.busy": "2023-03-09T21:09:24.664608Z",
     "iopub.status.idle": "2023-03-09T21:09:24.677315Z",
     "shell.execute_reply": "2023-03-09T21:09:24.676138Z"
    },
    "papermill": {
     "duration": 0.028203,
     "end_time": "2023-03-09T21:09:24.680118",
     "exception": false,
     "start_time": "2023-03-09T21:09:24.651915",
     "status": "completed"
    },
    "tags": []
   },
   "outputs": [
    {
     "data": {
      "text/html": [
       "<div>\n",
       "<style scoped>\n",
       "    .dataframe tbody tr th:only-of-type {\n",
       "        vertical-align: middle;\n",
       "    }\n",
       "\n",
       "    .dataframe tbody tr th {\n",
       "        vertical-align: top;\n",
       "    }\n",
       "\n",
       "    .dataframe thead th {\n",
       "        text-align: right;\n",
       "    }\n",
       "</style>\n",
       "<table border=\"1\" class=\"dataframe\">\n",
       "  <thead>\n",
       "    <tr style=\"text-align: right;\">\n",
       "      <th></th>\n",
       "      <th>CUSTOMER_LEVEL_BASED</th>\n",
       "      <th>PRICE</th>\n",
       "      <th>SEGMENT</th>\n",
       "    </tr>\n",
       "  </thead>\n",
       "  <tbody>\n",
       "    <tr>\n",
       "      <th>57</th>\n",
       "      <td>FRA_IOS_female_31_40</td>\n",
       "      <td>33.0</td>\n",
       "      <td>C</td>\n",
       "    </tr>\n",
       "  </tbody>\n",
       "</table>\n",
       "</div>"
      ],
      "text/plain": [
       "    CUSTOMER_LEVEL_BASED  PRICE SEGMENT\n",
       "57  FRA_IOS_female_31_40   33.0       C"
      ]
     },
     "execution_count": 19,
     "metadata": {},
     "output_type": "execute_result"
    }
   ],
   "source": [
    "agg_df2.loc[agg_df2[\"CUSTOMER_LEVEL_BASED\"] ==\"FRA_IOS_female_31_40\"]"
   ]
  },
  {
   "cell_type": "markdown",
   "id": "c607bda9",
   "metadata": {
    "papermill": {
     "duration": 0.011267,
     "end_time": "2023-03-09T21:09:24.703245",
     "exception": false,
     "start_time": "2023-03-09T21:09:24.691978",
     "status": "completed"
    },
    "tags": []
   },
   "source": [
    "# Question 3) Which customer group features most likely to bring the highest revenue in Segment A?"
   ]
  },
  {
   "cell_type": "code",
   "execution_count": 20,
   "id": "7d4290db",
   "metadata": {
    "execution": {
     "iopub.execute_input": "2023-03-09T21:09:24.728270Z",
     "iopub.status.busy": "2023-03-09T21:09:24.727566Z",
     "iopub.status.idle": "2023-03-09T21:09:24.742222Z",
     "shell.execute_reply": "2023-03-09T21:09:24.740850Z"
    },
    "papermill": {
     "duration": 0.030089,
     "end_time": "2023-03-09T21:09:24.744824",
     "exception": false,
     "start_time": "2023-03-09T21:09:24.714735",
     "status": "completed"
    },
    "tags": []
   },
   "outputs": [
    {
     "data": {
      "text/html": [
       "<div>\n",
       "<style scoped>\n",
       "    .dataframe tbody tr th:only-of-type {\n",
       "        vertical-align: middle;\n",
       "    }\n",
       "\n",
       "    .dataframe tbody tr th {\n",
       "        vertical-align: top;\n",
       "    }\n",
       "\n",
       "    .dataframe thead th {\n",
       "        text-align: right;\n",
       "    }\n",
       "</style>\n",
       "<table border=\"1\" class=\"dataframe\">\n",
       "  <thead>\n",
       "    <tr style=\"text-align: right;\">\n",
       "      <th></th>\n",
       "      <th>CUSTOMER_LEVEL_BASED</th>\n",
       "      <th>PRICE</th>\n",
       "      <th>SEGMENT</th>\n",
       "    </tr>\n",
       "  </thead>\n",
       "  <tbody>\n",
       "    <tr>\n",
       "      <th>64</th>\n",
       "      <td>TUR_ANDROID_female_24_30</td>\n",
       "      <td>43.000000</td>\n",
       "      <td>A</td>\n",
       "    </tr>\n",
       "    <tr>\n",
       "      <th>69</th>\n",
       "      <td>TUR_ANDROID_male_24_30</td>\n",
       "      <td>42.333333</td>\n",
       "      <td>A</td>\n",
       "    </tr>\n",
       "    <tr>\n",
       "      <th>36</th>\n",
       "      <td>DEU_ANDROID_male_19_23</td>\n",
       "      <td>41.727273</td>\n",
       "      <td>A</td>\n",
       "    </tr>\n",
       "    <tr>\n",
       "      <th>46</th>\n",
       "      <td>FRA_ANDROID_female_0_18</td>\n",
       "      <td>41.305901</td>\n",
       "      <td>A</td>\n",
       "    </tr>\n",
       "    <tr>\n",
       "      <th>43</th>\n",
       "      <td>DEU_IOS_male_24_30</td>\n",
       "      <td>39.000000</td>\n",
       "      <td>A</td>\n",
       "    </tr>\n",
       "  </tbody>\n",
       "</table>\n",
       "</div>"
      ],
      "text/plain": [
       "        CUSTOMER_LEVEL_BASED      PRICE SEGMENT\n",
       "64  TUR_ANDROID_female_24_30  43.000000       A\n",
       "69    TUR_ANDROID_male_24_30  42.333333       A\n",
       "36    DEU_ANDROID_male_19_23  41.727273       A\n",
       "46   FRA_ANDROID_female_0_18  41.305901       A\n",
       "43        DEU_IOS_male_24_30  39.000000       A"
      ]
     },
     "execution_count": 20,
     "metadata": {},
     "output_type": "execute_result"
    }
   ],
   "source": [
    "agg_df2.loc[agg_df2[\"SEGMENT\"] ==\"A\"].sort_values(\"PRICE\",ascending=False).head()"
   ]
  },
  {
   "cell_type": "markdown",
   "id": "cfb11600",
   "metadata": {
    "papermill": {
     "duration": 0.011385,
     "end_time": "2023-03-09T21:09:24.767908",
     "exception": false,
     "start_time": "2023-03-09T21:09:24.756523",
     "status": "completed"
    },
    "tags": []
   },
   "source": [
    "\n",
    "\n",
    "### Thank you for your suggestions and comments :)\n",
    "### My linkedin profile: https://www.linkedin.com/in/sefercan-apaydin/\n",
    "### My Github profile: https://github.com/sefercanapaydin"
   ]
  },
  {
   "cell_type": "markdown",
   "id": "d5a5c1d2",
   "metadata": {
    "papermill": {
     "duration": 0.011726,
     "end_time": "2023-03-09T21:09:24.791463",
     "exception": false,
     "start_time": "2023-03-09T21:09:24.779737",
     "status": "completed"
    },
    "tags": []
   },
   "source": [
    "References:  https://www.miuul.com/"
   ]
  }
 ],
 "metadata": {
  "kernelspec": {
   "display_name": "Python 3",
   "language": "python",
   "name": "python3"
  },
  "language_info": {
   "codemirror_mode": {
    "name": "ipython",
    "version": 3
   },
   "file_extension": ".py",
   "mimetype": "text/x-python",
   "name": "python",
   "nbconvert_exporter": "python",
   "pygments_lexer": "ipython3",
   "version": "3.7.12"
  },
  "papermill": {
   "default_parameters": {},
   "duration": 14.90885,
   "end_time": "2023-03-09T21:09:25.626177",
   "environment_variables": {},
   "exception": null,
   "input_path": "__notebook__.ipynb",
   "output_path": "__notebook__.ipynb",
   "parameters": {},
   "start_time": "2023-03-09T21:09:10.717327",
   "version": "2.4.0"
  }
 },
 "nbformat": 4,
 "nbformat_minor": 5
}
