{
 "cells": [
  {
   "cell_type": "markdown",
   "id": "9f0ef85f",
   "metadata": {
    "_cell_guid": "b1076dfc-b9ad-4769-8c92-a6c4dae69d19",
    "_uuid": "8f2839f25d086af736a60e9eeb907d3b93b6e0e5",
    "papermill": {
     "duration": 0.01155,
     "end_time": "2023-04-07T11:36:59.447578",
     "exception": false,
     "start_time": "2023-04-07T11:36:59.436028",
     "status": "completed"
    },
    "tags": []
   },
   "source": [
    "# Necessary Libraries and Settings"
   ]
  },
  {
   "cell_type": "code",
   "execution_count": 1,
   "id": "7539120d",
   "metadata": {
    "execution": {
     "iopub.execute_input": "2023-04-07T11:36:59.473377Z",
     "iopub.status.busy": "2023-04-07T11:36:59.472764Z",
     "iopub.status.idle": "2023-04-07T11:37:01.236647Z",
     "shell.execute_reply": "2023-04-07T11:37:01.235414Z"
    },
    "papermill": {
     "duration": 1.782241,
     "end_time": "2023-04-07T11:37:01.240283",
     "exception": false,
     "start_time": "2023-04-07T11:36:59.458042",
     "status": "completed"
    },
    "tags": []
   },
   "outputs": [],
   "source": [
    "\n",
    "import numpy as np\n",
    "import pandas as pd\n",
    "import seaborn as sns\n",
    "from matplotlib import pyplot as plt\n",
    "# !pip install missingno\n",
    "import missingno as msno\n",
    "from datetime import date\n",
    "from sklearn.metrics import accuracy_score\n",
    "from sklearn.model_selection import train_test_split\n",
    "from sklearn.neighbors import LocalOutlierFactor\n",
    "from sklearn.preprocessing import MinMaxScaler, LabelEncoder, StandardScaler, RobustScaler\n",
    "\n",
    "pd.set_option('display.max_columns', None)\n",
    "pd.set_option('display.max_rows', None)\n",
    "pd.set_option('display.float_format', lambda x: '%.3f' % x)\n",
    "pd.set_option('display.width', 500)\n"
   ]
  },
  {
   "cell_type": "markdown",
   "id": "d171be46",
   "metadata": {
    "papermill": {
     "duration": 0.010194,
     "end_time": "2023-04-07T11:37:01.262013",
     "exception": false,
     "start_time": "2023-04-07T11:37:01.251819",
     "status": "completed"
    },
    "tags": []
   },
   "source": [
    "# Loading Function"
   ]
  },
  {
   "cell_type": "code",
   "execution_count": 2,
   "id": "e1613f5a",
   "metadata": {
    "execution": {
     "iopub.execute_input": "2023-04-07T11:37:01.286341Z",
     "iopub.status.busy": "2023-04-07T11:37:01.285874Z",
     "iopub.status.idle": "2023-04-07T11:37:01.291778Z",
     "shell.execute_reply": "2023-04-07T11:37:01.290226Z"
    },
    "papermill": {
     "duration": 0.02081,
     "end_time": "2023-04-07T11:37:01.294402",
     "exception": false,
     "start_time": "2023-04-07T11:37:01.273592",
     "status": "completed"
    },
    "tags": []
   },
   "outputs": [],
   "source": [
    "def load():\n",
    "    data = pd.read_csv(\".....\")\n",
    "    return data\n"
   ]
  },
  {
   "cell_type": "markdown",
   "id": "4d9455b4",
   "metadata": {
    "papermill": {
     "duration": 0.010542,
     "end_time": "2023-04-07T11:37:01.315676",
     "exception": false,
     "start_time": "2023-04-07T11:37:01.305134",
     "status": "completed"
    },
    "tags": []
   },
   "source": [
    "# Outliers"
   ]
  },
  {
   "cell_type": "markdown",
   "id": "74349815",
   "metadata": {
    "papermill": {
     "duration": 0.009908,
     "end_time": "2023-04-07T11:37:01.335855",
     "exception": false,
     "start_time": "2023-04-07T11:37:01.325947",
     "status": "completed"
    },
    "tags": []
   },
   "source": [
    "## Grafik"
   ]
  },
  {
   "cell_type": "code",
   "execution_count": 3,
   "id": "1c720e62",
   "metadata": {
    "execution": {
     "iopub.execute_input": "2023-04-07T11:37:01.358774Z",
     "iopub.status.busy": "2023-04-07T11:37:01.358290Z",
     "iopub.status.idle": "2023-04-07T11:37:01.363678Z",
     "shell.execute_reply": "2023-04-07T11:37:01.362127Z"
    },
    "papermill": {
     "duration": 0.020587,
     "end_time": "2023-04-07T11:37:01.366688",
     "exception": false,
     "start_time": "2023-04-07T11:37:01.346101",
     "status": "completed"
    },
    "tags": []
   },
   "outputs": [],
   "source": [
    "# sns.boxplot(x=df[col], whis = 1.5) \n",
    "# plt.show(block = True)"
   ]
  },
  {
   "cell_type": "markdown",
   "id": "9b83d62a",
   "metadata": {
    "papermill": {
     "duration": 0.009985,
     "end_time": "2023-04-07T11:37:01.387258",
     "exception": false,
     "start_time": "2023-04-07T11:37:01.377273",
     "status": "completed"
    },
    "tags": []
   },
   "source": [
    " ## Fonksiyonlar"
   ]
  },
  {
   "cell_type": "code",
   "execution_count": 4,
   "id": "d9fc24f9",
   "metadata": {
    "execution": {
     "iopub.execute_input": "2023-04-07T11:37:01.410265Z",
     "iopub.status.busy": "2023-04-07T11:37:01.409858Z",
     "iopub.status.idle": "2023-04-07T11:37:01.416316Z",
     "shell.execute_reply": "2023-04-07T11:37:01.415063Z"
    },
    "papermill": {
     "duration": 0.021445,
     "end_time": "2023-04-07T11:37:01.419136",
     "exception": false,
     "start_time": "2023-04-07T11:37:01.397691",
     "status": "completed"
    },
    "tags": []
   },
   "outputs": [],
   "source": [
    "def outlier_thresholds(dataframe, col_name, q1=0.25, q3=0.75):\n",
    "    quartile1 = dataframe[col_name].quantile(q1)\n",
    "    quartile3 = dataframe[col_name].quantile(q3)\n",
    "    interquantile_range = quartile3 - quartile1\n",
    "    up_limit = quartile3 + 1.5 * interquantile_range\n",
    "    low_limit = quartile1 - 1.5 * interquantile_range\n",
    "    return low_limit, up_limit\n",
    "\n",
    "# outlier_thresholds(df, \"Age\")\n",
    "# outlier_thresholds(df, \"Fare\")"
   ]
  },
  {
   "cell_type": "code",
   "execution_count": 5,
   "id": "144c9b3d",
   "metadata": {
    "execution": {
     "iopub.execute_input": "2023-04-07T11:37:01.440916Z",
     "iopub.status.busy": "2023-04-07T11:37:01.440502Z",
     "iopub.status.idle": "2023-04-07T11:37:01.447618Z",
     "shell.execute_reply": "2023-04-07T11:37:01.445875Z"
    },
    "papermill": {
     "duration": 0.020335,
     "end_time": "2023-04-07T11:37:01.449525",
     "exception": false,
     "start_time": "2023-04-07T11:37:01.429190",
     "status": "completed"
    },
    "tags": []
   },
   "outputs": [],
   "source": [
    "def check_outlier(dataframe, col_name):\n",
    "    low_limit, up_limit = outlier_thresholds(dataframe, col_name)\n",
    "    if dataframe[(dataframe[col_name] > up_limit) | (dataframe[col_name] < low_limit)].any(axis=None):\n",
    "        return True\n",
    "    else:\n",
    "        return False\n",
    "    \n",
    "# check_outlier(df, \"Age\")\n",
    "# check_outlier(df, \"Fare\")"
   ]
  },
  {
   "cell_type": "code",
   "execution_count": 6,
   "id": "f48d5607",
   "metadata": {
    "execution": {
     "iopub.execute_input": "2023-04-07T11:37:01.472682Z",
     "iopub.status.busy": "2023-04-07T11:37:01.472316Z",
     "iopub.status.idle": "2023-04-07T11:37:01.480405Z",
     "shell.execute_reply": "2023-04-07T11:37:01.478690Z"
    },
    "papermill": {
     "duration": 0.023853,
     "end_time": "2023-04-07T11:37:01.483560",
     "exception": false,
     "start_time": "2023-04-07T11:37:01.459707",
     "status": "completed"
    },
    "tags": []
   },
   "outputs": [],
   "source": [
    "def grab_outliers(dataframe, col_name, index=False):\n",
    "    low, up = outlier_thresholds(dataframe, col_name)\n",
    "\n",
    "    if dataframe[((dataframe[col_name] < low) | (dataframe[col_name] > up))].shape[0] > 10:\n",
    "        print(dataframe[((dataframe[col_name] < low) | (dataframe[col_name] > up))].head())\n",
    "    else:\n",
    "        print(dataframe[((dataframe[col_name] < low) | (dataframe[col_name] > up))])\n",
    "\n",
    "    if index:\n",
    "        outlier_index = dataframe[((dataframe[col_name] < low) | (dataframe[col_name] > up))].index\n",
    "        return outlier_index"
   ]
  },
  {
   "cell_type": "markdown",
   "id": "59baa208",
   "metadata": {
    "papermill": {
     "duration": 0.009534,
     "end_time": "2023-04-07T11:37:01.503331",
     "exception": false,
     "start_time": "2023-04-07T11:37:01.493797",
     "status": "completed"
    },
    "tags": []
   },
   "source": [
    "# Col Type Analysis"
   ]
  },
  {
   "cell_type": "code",
   "execution_count": 7,
   "id": "e18a5336",
   "metadata": {
    "execution": {
     "iopub.execute_input": "2023-04-07T11:37:01.524878Z",
     "iopub.status.busy": "2023-04-07T11:37:01.524447Z",
     "iopub.status.idle": "2023-04-07T11:37:01.535277Z",
     "shell.execute_reply": "2023-04-07T11:37:01.533480Z"
    },
    "papermill": {
     "duration": 0.024872,
     "end_time": "2023-04-07T11:37:01.538133",
     "exception": false,
     "start_time": "2023-04-07T11:37:01.513261",
     "status": "completed"
    },
    "tags": []
   },
   "outputs": [],
   "source": [
    "def grab_col_names(dataframe, cat_th=10, car_th=20):\n",
    "    \"\"\"\n",
    "\n",
    "    Veri setindeki kategorik, numerik ve kategorik fakat kardinal değişkenlerin isimlerini verir.\n",
    "    Not: Kategorik değişkenlerin içerisine numerik görünümlü kategorik değişkenler de dahildir.\n",
    "\n",
    "    Parameters\n",
    "    ------\n",
    "        dataframe: dataframe\n",
    "                Değişken isimleri alınmak istenilen dataframe\n",
    "        cat_th: int, optional\n",
    "                numerik fakat kategorik olan değişkenler için sınıf eşik değeri\n",
    "        car_th: int, optinal\n",
    "                kategorik fakat kardinal değişkenler için sınıf eşik değeri\n",
    "\n",
    "    Returns\n",
    "    ------\n",
    "        cat_cols: list\n",
    "                Kategorik değişken listesi\n",
    "        num_cols: list\n",
    "                Numerik değişken listesi\n",
    "        cat_but_car: list\n",
    "                Kategorik görünümlü kardinal değişken listesi\n",
    "\n",
    "    Examples\n",
    "    ------\n",
    "        import seaborn as sns\n",
    "        df = sns.load_dataset(\"iris\")\n",
    "        print(grab_col_names(df))\n",
    "\n",
    "\n",
    "    Notes\n",
    "    ------\n",
    "        cat_cols + num_cols + cat_but_car = toplam değişken sayısı\n",
    "        num_but_cat cat_cols'un içerisinde.\n",
    "        Return olan 3 liste toplamı toplam değişken sayısına eşittir: cat_cols + num_cols + cat_but_car = değişken sayısı\n",
    "\n",
    "    \"\"\"\n",
    "\n",
    "    # cat_cols, cat_but_car\n",
    "    cat_cols = [col for col in dataframe.columns if dataframe[col].dtypes == \"O\"]\n",
    "    num_but_cat = [col for col in dataframe.columns if dataframe[col].nunique() < cat_th and\n",
    "                   dataframe[col].dtypes != \"O\"]\n",
    "    cat_but_car = [col for col in dataframe.columns if dataframe[col].nunique() > car_th and\n",
    "                   dataframe[col].dtypes == \"O\"]\n",
    "    cat_cols = cat_cols + num_but_cat\n",
    "    cat_cols = [col for col in cat_cols if col not in cat_but_car]\n",
    "\n",
    "    # num_cols\n",
    "    num_cols = [col for col in dataframe.columns if dataframe[col].dtypes != \"O\"]\n",
    "    num_cols = [col for col in num_cols if col not in num_but_cat]\n",
    "\n",
    "    print(f\"Observations: {dataframe.shape[0]}\")\n",
    "    print(f\"Variables: {dataframe.shape[1]}\")\n",
    "    print(f'cat_cols: {len(cat_cols)}')\n",
    "    print(f'num_cols: {len(num_cols)}')\n",
    "    print(f'cat_but_car: {len(cat_but_car)}')\n",
    "    print(f'num_but_cat: {len(num_but_cat)}')\n",
    "    return cat_cols, num_cols, cat_but_car\n",
    "\n",
    "# cat_cols, num_cols, cat_but_car = grab_col_names(df)\n",
    "# num_cols = [col for col in num_cols if col not in \"PassengerId\"]"
   ]
  },
  {
   "cell_type": "markdown",
   "id": "f8c52b38",
   "metadata": {
    "papermill": {
     "duration": 0.00984,
     "end_time": "2023-04-07T11:37:01.558413",
     "exception": false,
     "start_time": "2023-04-07T11:37:01.548573",
     "status": "completed"
    },
    "tags": []
   },
   "source": [
    "# Handling Outliers"
   ]
  },
  {
   "cell_type": "code",
   "execution_count": 8,
   "id": "f5840941",
   "metadata": {
    "execution": {
     "iopub.execute_input": "2023-04-07T11:37:01.581338Z",
     "iopub.status.busy": "2023-04-07T11:37:01.580939Z",
     "iopub.status.idle": "2023-04-07T11:37:01.586887Z",
     "shell.execute_reply": "2023-04-07T11:37:01.585229Z"
    },
    "papermill": {
     "duration": 0.021733,
     "end_time": "2023-04-07T11:37:01.590433",
     "exception": false,
     "start_time": "2023-04-07T11:37:01.568700",
     "status": "completed"
    },
    "tags": []
   },
   "outputs": [],
   "source": [
    "def remove_outlier(dataframe, col_name):\n",
    "    low_limit, up_limit = outlier_thresholds(dataframe, col_name)\n",
    "    df_without_outliers = dataframe[~((dataframe[col_name] < low_limit) | (dataframe[col_name] > up_limit))]\n",
    "    return df_without_outliers\n",
    "\n",
    "# for col in num_cols:\n",
    "#     new_df = remove_outlier(df, col)"
   ]
  },
  {
   "cell_type": "code",
   "execution_count": 9,
   "id": "06222ac2",
   "metadata": {
    "execution": {
     "iopub.execute_input": "2023-04-07T11:37:01.613605Z",
     "iopub.status.busy": "2023-04-07T11:37:01.613176Z",
     "iopub.status.idle": "2023-04-07T11:37:01.618846Z",
     "shell.execute_reply": "2023-04-07T11:37:01.617785Z"
    },
    "papermill": {
     "duration": 0.020213,
     "end_time": "2023-04-07T11:37:01.621299",
     "exception": false,
     "start_time": "2023-04-07T11:37:01.601086",
     "status": "completed"
    },
    "tags": []
   },
   "outputs": [],
   "source": [
    "def replace_with_thresholds(dataframe, variable):\n",
    "    low_limit, up_limit = outlier_thresholds(dataframe, variable)\n",
    "    dataframe.loc[(dataframe[variable] < low_limit), variable] = low_limit\n",
    "    dataframe.loc[(dataframe[variable] > up_limit), variable] = up_limit\n",
    "# for col in num_cols:\n",
    "#     print(col, check_outlier(df, col))\n",
    "\n",
    "# for col in num_cols:\n",
    "#     replace_with_thresholds(df, col)\n",
    "\n",
    "# for col in num_cols:\n",
    "#     print(col, check_outlier(df, col))"
   ]
  },
  {
   "cell_type": "markdown",
   "id": "01bef1ae",
   "metadata": {
    "papermill": {
     "duration": 0.010819,
     "end_time": "2023-04-07T11:37:01.642535",
     "exception": false,
     "start_time": "2023-04-07T11:37:01.631716",
     "status": "completed"
    },
    "tags": []
   },
   "source": [
    "## Usage Examples"
   ]
  },
  {
   "cell_type": "code",
   "execution_count": 10,
   "id": "8c4a0918",
   "metadata": {
    "execution": {
     "iopub.execute_input": "2023-04-07T11:37:01.665249Z",
     "iopub.status.busy": "2023-04-07T11:37:01.664862Z",
     "iopub.status.idle": "2023-04-07T11:37:01.669329Z",
     "shell.execute_reply": "2023-04-07T11:37:01.668150Z"
    },
    "papermill": {
     "duration": 0.019415,
     "end_time": "2023-04-07T11:37:01.672494",
     "exception": false,
     "start_time": "2023-04-07T11:37:01.653079",
     "status": "completed"
    },
    "tags": []
   },
   "outputs": [],
   "source": [
    "# for col in num_cols:\n",
    "#     print(col, check_outlier(df, col))\n",
    "\n",
    "\n",
    "\n",
    "# outlier_thresholds(df, \"Age\")\n",
    "# check_outlier(df, \"Age\")\n",
    "# grab_outliers(df, \"Age\", index=True)\n",
    "\n",
    "# remove_outlier(df, \"Age\").shape\n",
    "# replace_with_thresholds(df, \"Age\")\n",
    "# check_outlier(df, \"Age\")"
   ]
  },
  {
   "cell_type": "markdown",
   "id": "cf017241",
   "metadata": {
    "papermill": {
     "duration": 0.010656,
     "end_time": "2023-04-07T11:37:01.693672",
     "exception": false,
     "start_time": "2023-04-07T11:37:01.683016",
     "status": "completed"
    },
    "tags": []
   },
   "source": [
    "# Local Outlier Factor"
   ]
  },
  {
   "cell_type": "code",
   "execution_count": 11,
   "id": "5740bd9d",
   "metadata": {
    "execution": {
     "iopub.execute_input": "2023-04-07T11:37:01.717167Z",
     "iopub.status.busy": "2023-04-07T11:37:01.716787Z",
     "iopub.status.idle": "2023-04-07T11:37:01.722818Z",
     "shell.execute_reply": "2023-04-07T11:37:01.721003Z"
    },
    "papermill": {
     "duration": 0.021162,
     "end_time": "2023-04-07T11:37:01.726192",
     "exception": false,
     "start_time": "2023-04-07T11:37:01.705030",
     "status": "completed"
    },
    "tags": []
   },
   "outputs": [],
   "source": [
    "# df = df.select_dtypes(include=['float64', 'int64'])\n",
    "# df = df.dropna()\n",
    "\n",
    "# low, up = outlier_thresholds(df, \"carat\")\n",
    "\n",
    "# df[((df[\"carat\"] < low) | (df[\"carat\"] > up))].shape\n",
    "\n",
    "# low, up = outlier_thresholds(df, \"depth\")\n",
    "\n",
    "# df[((df[\"depth\"] < low) | (df[\"depth\"] > up))].shape\n",
    "\n",
    "# clf = LocalOutlierFactor(n_neighbors=20)\n",
    "# clf.fit_predict(df)\n",
    "\n",
    "# df_scores = clf.negative_outlier_factor_\n",
    "# df_scores[0:5]\n",
    "# # df_scores = -df_scores\n",
    "# np.sort(df_scores)[0:5]\n",
    "\n",
    "# scores = pd.DataFrame(np.sort(df_scores))\n",
    "# scores.plot(stacked=True, xlim=[0, 50], style='.-')\n",
    "# plt.show(block=True)\n",
    "\n",
    "# th = np.sort(df_scores)[3]\n",
    "\n",
    "# df[df_scores < th] "
   ]
  },
  {
   "cell_type": "markdown",
   "id": "5d756a2a",
   "metadata": {
    "papermill": {
     "duration": 0.010524,
     "end_time": "2023-04-07T11:37:01.747883",
     "exception": false,
     "start_time": "2023-04-07T11:37:01.737359",
     "status": "completed"
    },
    "tags": []
   },
   "source": [
    "# Missing Values"
   ]
  },
  {
   "cell_type": "markdown",
   "id": "9ce6489b",
   "metadata": {
    "papermill": {
     "duration": 0.009785,
     "end_time": "2023-04-07T11:37:01.768074",
     "exception": false,
     "start_time": "2023-04-07T11:37:01.758289",
     "status": "completed"
    },
    "tags": []
   },
   "source": [
    "## Missing value graphs"
   ]
  },
  {
   "cell_type": "code",
   "execution_count": 12,
   "id": "d4bc6537",
   "metadata": {
    "execution": {
     "iopub.execute_input": "2023-04-07T11:37:01.793872Z",
     "iopub.status.busy": "2023-04-07T11:37:01.793455Z",
     "iopub.status.idle": "2023-04-07T11:37:01.799319Z",
     "shell.execute_reply": "2023-04-07T11:37:01.797427Z"
    },
    "papermill": {
     "duration": 0.022792,
     "end_time": "2023-04-07T11:37:01.802105",
     "exception": false,
     "start_time": "2023-04-07T11:37:01.779313",
     "status": "completed"
    },
    "tags": []
   },
   "outputs": [],
   "source": [
    "# msno.bar(df)\n",
    "# plt.show(block=True)\n",
    "\n",
    "# msno.matrix(df) #değişkenlerdeki eksikliklerin birlikte çıkıp çıkmadığı ile alakalı bilgi veriyor.\n",
    "# plt.show(block=True)\n",
    "\n",
    "# msno.heatmap(df)\n",
    "# plt.show(block=True)"
   ]
  },
  {
   "cell_type": "code",
   "execution_count": 13,
   "id": "ed1f5fc9",
   "metadata": {
    "execution": {
     "iopub.execute_input": "2023-04-07T11:37:01.825630Z",
     "iopub.status.busy": "2023-04-07T11:37:01.825064Z",
     "iopub.status.idle": "2023-04-07T11:37:01.831715Z",
     "shell.execute_reply": "2023-04-07T11:37:01.830558Z"
    },
    "papermill": {
     "duration": 0.021183,
     "end_time": "2023-04-07T11:37:01.833747",
     "exception": false,
     "start_time": "2023-04-07T11:37:01.812564",
     "status": "completed"
    },
    "tags": []
   },
   "outputs": [],
   "source": [
    "# # degiskenlerdeki eksik deger sayisi\n",
    "# df.isnull().sum()\n",
    "\n",
    "# # degiskenlerdeki tam deger sayisi\n",
    "# df.notnull().sum()\n",
    "\n",
    "# # veri setindeki toplam eksik deger sayisi\n",
    "# df.isnull().sum().sum()\n",
    "\n",
    "# # en az bir tane eksik degere sahip olan gözlem birimleri\n",
    "# df[df.isnull().any(axis=1)]\n",
    "\n",
    "# # tam olan gözlem birimleri\n",
    "# df[df.notnull().all(axis=1)]\n",
    "\n",
    "# # Azalan şekilde sıralamak\n",
    "# df.isnull().sum().sort_values(ascending=False)\n",
    "\n",
    "# (df.isnull().sum() / df.shape[0] * 100).sort_values(ascending=False) # Yüzdesel olarak gösterip sıralar\n",
    "\n",
    "# na_cols = [col for col in df.columns if df[col].isnull().sum() > 0] # na olan sutunları verir\n"
   ]
  },
  {
   "cell_type": "code",
   "execution_count": 14,
   "id": "6c6b642f",
   "metadata": {
    "execution": {
     "iopub.execute_input": "2023-04-07T11:37:01.856886Z",
     "iopub.status.busy": "2023-04-07T11:37:01.856440Z",
     "iopub.status.idle": "2023-04-07T11:37:01.865857Z",
     "shell.execute_reply": "2023-04-07T11:37:01.864056Z"
    },
    "papermill": {
     "duration": 0.024829,
     "end_time": "2023-04-07T11:37:01.869031",
     "exception": false,
     "start_time": "2023-04-07T11:37:01.844202",
     "status": "completed"
    },
    "tags": []
   },
   "outputs": [],
   "source": [
    "def missing_values_table(dataframe, na_name=False):\n",
    "    na_columns = [col for col in dataframe.columns if dataframe[col].isnull().sum() > 0]\n",
    "\n",
    "    n_miss = dataframe[na_columns].isnull().sum().sort_values(ascending=False)\n",
    "    ratio = (dataframe[na_columns].isnull().sum() / dataframe.shape[0] * 100).sort_values(ascending=False)\n",
    "    missing_df = pd.concat([n_miss, np.round(ratio, 2)], axis=1, keys=['n_miss', 'ratio'])\n",
    "    print(missing_df, end=\"\\n\")\n",
    "\n",
    "    if na_name:\n",
    "        return na_columns\n",
    "# missing_values_table(df, True)"
   ]
  },
  {
   "cell_type": "code",
   "execution_count": 15,
   "id": "04f506f3",
   "metadata": {
    "execution": {
     "iopub.execute_input": "2023-04-07T11:37:01.892416Z",
     "iopub.status.busy": "2023-04-07T11:37:01.892036Z",
     "iopub.status.idle": "2023-04-07T11:37:01.900844Z",
     "shell.execute_reply": "2023-04-07T11:37:01.898722Z"
    },
    "papermill": {
     "duration": 0.023809,
     "end_time": "2023-04-07T11:37:01.903934",
     "exception": false,
     "start_time": "2023-04-07T11:37:01.880125",
     "status": "completed"
    },
    "tags": []
   },
   "outputs": [],
   "source": [
    "def missing_vs_target(dataframe, target, na_columns):\n",
    "    temp_df = dataframe.copy()\n",
    "\n",
    "    for col in na_columns:\n",
    "        temp_df[col + '_NA_FLAG'] = np.where(temp_df[col].isnull(), 1, 0)\n",
    "\n",
    "    na_flags = temp_df.loc[:, temp_df.columns.str.contains(\"_NA_\")].columns\n",
    "\n",
    "    for col in na_flags:\n",
    "        print(pd.DataFrame({\"TARGET_MEAN\": temp_df.groupby(col)[target].mean(),\n",
    "                            \"Count\": temp_df.groupby(col)[target].count()}), end=\"\\n\\n\\n\")\n",
    "        \n",
    "        \n",
    "        \n",
    "# na_cols = missing_values_table(df, True)\n",
    "# missing_vs_target(df, \"Survived\", na_cols)"
   ]
  },
  {
   "cell_type": "markdown",
   "id": "4af82c2d",
   "metadata": {
    "papermill": {
     "duration": 0.009859,
     "end_time": "2023-04-07T11:37:01.925083",
     "exception": false,
     "start_time": "2023-04-07T11:37:01.915224",
     "status": "completed"
    },
    "tags": []
   },
   "source": [
    "# Handling Missing Values"
   ]
  },
  {
   "cell_type": "code",
   "execution_count": 16,
   "id": "0d6d40bc",
   "metadata": {
    "execution": {
     "iopub.execute_input": "2023-04-07T11:37:01.946966Z",
     "iopub.status.busy": "2023-04-07T11:37:01.946583Z",
     "iopub.status.idle": "2023-04-07T11:37:01.952649Z",
     "shell.execute_reply": "2023-04-07T11:37:01.951248Z"
    },
    "papermill": {
     "duration": 0.02016,
     "end_time": "2023-04-07T11:37:01.955407",
     "exception": false,
     "start_time": "2023-04-07T11:37:01.935247",
     "status": "completed"
    },
    "tags": []
   },
   "outputs": [],
   "source": [
    "# df[\"Age\"].fillna(df[\"Age\"].mean())\n",
    "# df[\"Age\"].fillna(df[\"Age\"].median())\n",
    "# df[\"Age\"].fillna(0).isnull()\n",
    "\n",
    "# df.apply(lambda x: x.fillna(x.mean()) if x.dtype != \"O\" else x, axis=0).head() # üsttekilerin genelleştirilmiş hali\n",
    "\n",
    "# df[\"Embarked\"].fillna(df[\"Embarked\"].mode()[0]) # Kategorik değişkende eksik var ise en çok tekrar eden değeri ile doldurabiliriz.\n",
    "\n",
    "# df.apply(lambda x: x.fillna(x.mode()[0]) if (x.dtype == \"O\" and len(x.unique()) <= 10) else x, axis=0) #üsttekinin genelleştirilmiş hali\n",
    "\n",
    "\n",
    "# df[\"Age\"].fillna(df.groupby(\"Sex\")[\"Age\"].transform(\"mean\")).isnull().sum() # kateogrik kırılımda grupların kendı ortalaması ıle doldurma.\n",
    "\n",
    "\n",
    "# df.loc[(df[\"Age\"].isnull()) & (df[\"Sex\"]==\"female\"), \"Age\"] = df.groupby(\"Sex\")[\"Age\"].mean()[\"female\"] # yukardakı islemın acıklaması\n",
    "\n",
    "# df.loc[(df[\"Age\"].isnull()) & (df[\"Sex\"]==\"male\"), \"Age\"] = df.groupby(\"Sex\")[\"Age\"].mean()[\"male\"] # yukardakı islemın acıklaması\n"
   ]
  },
  {
   "cell_type": "markdown",
   "id": "4b96171a",
   "metadata": {
    "papermill": {
     "duration": 0.01005,
     "end_time": "2023-04-07T11:37:01.975877",
     "exception": false,
     "start_time": "2023-04-07T11:37:01.965827",
     "status": "completed"
    },
    "tags": []
   },
   "source": [
    "## KNN method, extraction needed from the code below"
   ]
  },
  {
   "cell_type": "code",
   "execution_count": 17,
   "id": "beab34a1",
   "metadata": {
    "execution": {
     "iopub.execute_input": "2023-04-07T11:37:01.999759Z",
     "iopub.status.busy": "2023-04-07T11:37:01.999363Z",
     "iopub.status.idle": "2023-04-07T11:37:02.005753Z",
     "shell.execute_reply": "2023-04-07T11:37:02.004260Z"
    },
    "papermill": {
     "duration": 0.021607,
     "end_time": "2023-04-07T11:37:02.008693",
     "exception": false,
     "start_time": "2023-04-07T11:37:01.987086",
     "status": "completed"
    },
    "tags": []
   },
   "outputs": [],
   "source": [
    "# cat_cols, num_cols, cat_but_car = grab_col_names(df)\n",
    "# num_cols = [col for col in num_cols if col not in \"PassengerId\"]\n",
    "# dff = pd.get_dummies(df[cat_cols + num_cols], drop_first=True)\n",
    "\n",
    "# dff.head()\n",
    "\n",
    "# # değişkenlerin standartlatırılması\n",
    "# scaler = MinMaxScaler()\n",
    "# dff = pd.DataFrame(scaler.fit_transform(dff), columns=dff.columns)\n",
    "# dff.head()\n",
    "\n",
    "\n",
    "# # knn'in uygulanması.\n",
    "# from sklearn.impute import KNNImputer\n",
    "# imputer = KNNImputer(n_neighbors=5) ################# en yakın komşuların 5 tanesinin ortalamasını atar diyor\n",
    "#                                     # en yakından kastı eksik olan değişkenin dışındaki değişkenlerin benzerliğinden mi bahsediyor.\n",
    "#                                     # burada age değişkenı dışında diğer değişkenlerde de missing value olsa idi hepsini dolurcak mıydı?\n",
    "# dff = pd.DataFrame(imputer.fit_transform(dff), columns=dff.columns)\n",
    "# dff.head()\n",
    "\n",
    "# dff = pd.DataFrame(scaler.inverse_transform(dff), columns=dff.columns)\n",
    "\n",
    "# df[\"age_imputed_knn\"] = dff[[\"Age\"]]\n",
    "\n",
    "# df.loc[df[\"Age\"].isnull(), [\"Age\", \"age_imputed_knn\"]]\n",
    "# df.loc[df[\"Age\"].isnull()]"
   ]
  },
  {
   "cell_type": "markdown",
   "id": "81af7cd3",
   "metadata": {
    "papermill": {
     "duration": 0.010307,
     "end_time": "2023-04-07T11:37:02.029563",
     "exception": false,
     "start_time": "2023-04-07T11:37:02.019256",
     "status": "completed"
    },
    "tags": []
   },
   "source": [
    "# Encoding (Label Encoding, One-Hot Encoding, Rare Encoding)"
   ]
  },
  {
   "cell_type": "code",
   "execution_count": 18,
   "id": "87bb14c5",
   "metadata": {
    "execution": {
     "iopub.execute_input": "2023-04-07T11:37:02.054186Z",
     "iopub.status.busy": "2023-04-07T11:37:02.052600Z",
     "iopub.status.idle": "2023-04-07T11:37:02.060822Z",
     "shell.execute_reply": "2023-04-07T11:37:02.058758Z"
    },
    "papermill": {
     "duration": 0.023508,
     "end_time": "2023-04-07T11:37:02.063816",
     "exception": false,
     "start_time": "2023-04-07T11:37:02.040308",
     "status": "completed"
    },
    "tags": []
   },
   "outputs": [],
   "source": [
    "# le.inverse_transform([0, 1]) # label değerlerinin karşılıklarını verir.\n",
    "\n",
    "def label_encoder(dataframe, binary_col): # bu fonksiyon çalışırken değişkende eksik değer var ise ona 2 değerini veriyor.\n",
    "    labelencoder = LabelEncoder()\n",
    "    dataframe[binary_col] = labelencoder.fit_transform(dataframe[binary_col]) #dönüşüm yaparken alfabetik sıraya göre 0 dan başlayarak labellar ve iki değişkenli olduğu için birine 0 diğerine 1 verir.\n",
    "    return dataframe\n",
    "# binary_cols = [col for col in df.columns if df[col].dtype not in [\"int64\", \"float64\"] and df[col].nunique() == 2]\n",
    "# for col in binary_cols:\n",
    "#     label_encoder(df, col)"
   ]
  },
  {
   "cell_type": "code",
   "execution_count": 19,
   "id": "20b4b9a6",
   "metadata": {
    "execution": {
     "iopub.execute_input": "2023-04-07T11:37:02.089084Z",
     "iopub.status.busy": "2023-04-07T11:37:02.088709Z",
     "iopub.status.idle": "2023-04-07T11:37:02.095323Z",
     "shell.execute_reply": "2023-04-07T11:37:02.093377Z"
    },
    "papermill": {
     "duration": 0.022367,
     "end_time": "2023-04-07T11:37:02.097856",
     "exception": false,
     "start_time": "2023-04-07T11:37:02.075489",
     "status": "completed"
    },
    "tags": []
   },
   "outputs": [],
   "source": [
    "def one_hot_encoder(dataframe, categorical_cols, drop_first=True, dummy_na =False):\n",
    "    dataframe = pd.get_dummies(dataframe, columns=categorical_cols, drop_first=drop_first, dummy_na=dummy_na)\n",
    "    return dataframe\n",
    "# ohe_cols = [col for col in df.columns if 10 >= df[col].nunique() > 2]\n",
    "# one_hot_encoder(df, ohe_cols).head()"
   ]
  },
  {
   "cell_type": "markdown",
   "id": "d0095e84",
   "metadata": {
    "papermill": {
     "duration": 0.009949,
     "end_time": "2023-04-07T11:37:02.118133",
     "exception": false,
     "start_time": "2023-04-07T11:37:02.108184",
     "status": "completed"
    },
    "tags": []
   },
   "source": [
    "# Rare Encoding"
   ]
  },
  {
   "cell_type": "code",
   "execution_count": 20,
   "id": "f13979b1",
   "metadata": {
    "execution": {
     "iopub.execute_input": "2023-04-07T11:37:02.140297Z",
     "iopub.status.busy": "2023-04-07T11:37:02.139886Z",
     "iopub.status.idle": "2023-04-07T11:37:02.147712Z",
     "shell.execute_reply": "2023-04-07T11:37:02.145714Z"
    },
    "papermill": {
     "duration": 0.02294,
     "end_time": "2023-04-07T11:37:02.151108",
     "exception": false,
     "start_time": "2023-04-07T11:37:02.128168",
     "status": "completed"
    },
    "tags": []
   },
   "outputs": [],
   "source": [
    "def cat_summary(dataframe, col_name, plot=False):\n",
    "    print(pd.DataFrame({col_name: dataframe[col_name].value_counts(),\n",
    "                        \"Ratio\": 100 * dataframe[col_name].value_counts() / len(dataframe)}))\n",
    "    print(\"##########################################\")\n",
    "    if plot:\n",
    "        sns.countplot(x=dataframe[col_name], data=dataframe)\n",
    "        plt.show()\n",
    "        \n",
    "        \n",
    "# for col in cat_cols:\n",
    "#     cat_summary(df, col)"
   ]
  },
  {
   "cell_type": "code",
   "execution_count": 21,
   "id": "9f5f728d",
   "metadata": {
    "execution": {
     "iopub.execute_input": "2023-04-07T11:37:02.179068Z",
     "iopub.status.busy": "2023-04-07T11:37:02.178594Z",
     "iopub.status.idle": "2023-04-07T11:37:02.184948Z",
     "shell.execute_reply": "2023-04-07T11:37:02.184026Z"
    },
    "papermill": {
     "duration": 0.023843,
     "end_time": "2023-04-07T11:37:02.186902",
     "exception": false,
     "start_time": "2023-04-07T11:37:02.163059",
     "status": "completed"
    },
    "tags": []
   },
   "outputs": [],
   "source": [
    "def num_summary(dataframe, numerical_col, plot=False):\n",
    "    quantiles = [0.05, 0.10, 0.20, 0.30, 0.40, 0.50, 0.60, 0.70, 0.80, 0.90, 0.95, 0.99]\n",
    "    print(dataframe[numerical_col].describe(quantiles).T)\n",
    "\n",
    "    if plot:\n",
    "        dataframe[numerical_col].hist(bins=20)\n",
    "        plt.xlabel(numerical_col)\n",
    "        plt.title(numerical_col)\n",
    "        plt.show(block=True)\n",
    "        \n",
    "# for col in age_cols:\n",
    "#     num_summary(df, col, plot=True)"
   ]
  },
  {
   "cell_type": "code",
   "execution_count": 22,
   "id": "6c7bcbbd",
   "metadata": {
    "execution": {
     "iopub.execute_input": "2023-04-07T11:37:02.214235Z",
     "iopub.status.busy": "2023-04-07T11:37:02.213526Z",
     "iopub.status.idle": "2023-04-07T11:37:02.219444Z",
     "shell.execute_reply": "2023-04-07T11:37:02.218709Z"
    },
    "papermill": {
     "duration": 0.023498,
     "end_time": "2023-04-07T11:37:02.221580",
     "exception": false,
     "start_time": "2023-04-07T11:37:02.198082",
     "status": "completed"
    },
    "tags": []
   },
   "outputs": [],
   "source": [
    "def rare_analyser(dataframe, target, cat_cols):\n",
    "    for col in cat_cols:\n",
    "        print(col, \":\", len(dataframe[col].value_counts()))\n",
    "        print(pd.DataFrame({\"COUNT\": dataframe[col].value_counts(),\n",
    "                            \"RATIO\": dataframe[col].value_counts() / len(dataframe),\n",
    "                            \"TARGET_MEAN\": dataframe.groupby(col)[target].mean()}), end=\"\\n\\n\\n\")\n",
    "\n",
    "# rare_analyser(df, \"TARGET\", cat_cols)"
   ]
  },
  {
   "cell_type": "code",
   "execution_count": 23,
   "id": "41156f64",
   "metadata": {
    "execution": {
     "iopub.execute_input": "2023-04-07T11:37:02.250278Z",
     "iopub.status.busy": "2023-04-07T11:37:02.249299Z",
     "iopub.status.idle": "2023-04-07T11:37:02.272175Z",
     "shell.execute_reply": "2023-04-07T11:37:02.270340Z"
    },
    "papermill": {
     "duration": 0.039754,
     "end_time": "2023-04-07T11:37:02.275073",
     "exception": false,
     "start_time": "2023-04-07T11:37:02.235319",
     "status": "completed"
    },
    "tags": []
   },
   "outputs": [],
   "source": [
    "def rare_encoder(dataframe, rare_perc):\n",
    "    temp_df = dataframe.copy() #copy yapmadan eşitleme yapsaydık temp_dfteki değişiklikler dataframe i etkileyecek miydi?\n",
    "\n",
    "    rare_columns = [col for col in temp_df.columns if temp_df[col].dtypes == 'O'\n",
    "                    and (temp_df[col].value_counts() / len(temp_df) < rare_perc).any(axis=None)]\n",
    "\n",
    "    for var in rare_columns:\n",
    "        tmp = temp_df[var].value_counts() / len(temp_df)\n",
    "        rare_labels = tmp[tmp < rare_perc].index\n",
    "        temp_df[var] = np.where(temp_df[var].isin(rare_labels), 'Rare', temp_df[var])\n",
    "\n",
    "    return temp_df\n",
    "\n",
    "\n",
    "# new_df = rare_encoder(df, 0.01)\n",
    "\n",
    "# rare_analyser(new_df, \"TARGET\", cat_cols)"
   ]
  },
  {
   "cell_type": "markdown",
   "id": "70ba74d9",
   "metadata": {
    "papermill": {
     "duration": 0.011542,
     "end_time": "2023-04-07T11:37:02.298702",
     "exception": false,
     "start_time": "2023-04-07T11:37:02.287160",
     "status": "completed"
    },
    "tags": []
   },
   "source": [
    "# Feature Scaling (Özellik Ölçeklendirme)"
   ]
  },
  {
   "cell_type": "code",
   "execution_count": 24,
   "id": "50c4a96a",
   "metadata": {
    "execution": {
     "iopub.execute_input": "2023-04-07T11:37:02.322808Z",
     "iopub.status.busy": "2023-04-07T11:37:02.322208Z",
     "iopub.status.idle": "2023-04-07T11:37:02.326761Z",
     "shell.execute_reply": "2023-04-07T11:37:02.325521Z"
    },
    "papermill": {
     "duration": 0.019141,
     "end_time": "2023-04-07T11:37:02.329174",
     "exception": false,
     "start_time": "2023-04-07T11:37:02.310033",
     "status": "completed"
    },
    "tags": []
   },
   "outputs": [],
   "source": [
    "# scaler = StandardScaler()\n",
    "# df[num_cols] = scaler.fit_transform(df[num_cols])\n",
    "\n",
    "# rs = RobustScaler()\n",
    "# df[num_cols] = rs.fit_transform(df[num_cols])\n",
    "\n",
    "\n",
    "# mms = MinMaxScaler()\n",
    "# df[num_cols] = mms.fit_transform(df[[num_cols]])\n",
    "\n",
    "\n",
    "\n",
    "\n"
   ]
  },
  {
   "cell_type": "markdown",
   "id": "783c74ee",
   "metadata": {
    "papermill": {
     "duration": 0.011118,
     "end_time": "2023-04-07T11:37:02.353688",
     "exception": false,
     "start_time": "2023-04-07T11:37:02.342570",
     "status": "completed"
    },
    "tags": []
   },
   "source": [
    "# Feature Extraction"
   ]
  },
  {
   "cell_type": "markdown",
   "id": "f87bc51d",
   "metadata": {
    "papermill": {
     "duration": 0.014911,
     "end_time": "2023-04-07T11:37:02.380470",
     "exception": false,
     "start_time": "2023-04-07T11:37:02.365559",
     "status": "completed"
    },
    "tags": []
   },
   "source": [
    "#### Examples from Titanic Dataset"
   ]
  },
  {
   "cell_type": "code",
   "execution_count": 25,
   "id": "7b269589",
   "metadata": {
    "execution": {
     "iopub.execute_input": "2023-04-07T11:37:02.409584Z",
     "iopub.status.busy": "2023-04-07T11:37:02.408678Z",
     "iopub.status.idle": "2023-04-07T11:37:02.415344Z",
     "shell.execute_reply": "2023-04-07T11:37:02.413036Z"
    },
    "papermill": {
     "duration": 0.023211,
     "end_time": "2023-04-07T11:37:02.418152",
     "exception": false,
     "start_time": "2023-04-07T11:37:02.394941",
     "status": "completed"
    },
    "tags": []
   },
   "outputs": [],
   "source": [
    "# df[\"NEW_CABIN_BOOL\"] = df[\"Cabin\"].notnull().astype('int') # değişkenin boş olan değerlerine 0 dolu olan değerlerine 1 veriyor böylece değişkenin dolu olup olmamasının bağımlı değişkene olan etkisine bakıyoruz. Değerin ne olduğundan bağımsız\n",
    "# df.groupby(\"NEW_CABIN_BOOL\").agg({\"Survived\": \"mean\"})\n",
    "\n",
    "\n",
    "# from statsmodels.stats.proportion import proportions_ztest\n",
    "\n",
    "# test_stat, pvalue = proportions_ztest(count=[df.loc[df[\"NEW_CABIN_BOOL\"] == 1, \"Survived\"].sum(),\n",
    "#                                              df.loc[df[\"NEW_CABIN_BOOL\"] == 0, \"Survived\"].sum()],\n",
    "\n",
    "#                                       nobs=[df.loc[df[\"NEW_CABIN_BOOL\"] == 1, \"Survived\"].shape[0],\n",
    "#                                             df.loc[df[\"NEW_CABIN_BOOL\"] == 0, \"Survived\"].shape[0]])\n",
    "\n",
    "# print('Test Stat = %.4f, p-value = %.4f' % (test_stat, pvalue)) \n",
    "# # Sonrasında da ab testing yaparak gercekten bir fark var mı yok mu ona bakıyoruz."
   ]
  },
  {
   "cell_type": "code",
   "execution_count": 26,
   "id": "1dffc56b",
   "metadata": {
    "execution": {
     "iopub.execute_input": "2023-04-07T11:37:02.447398Z",
     "iopub.status.busy": "2023-04-07T11:37:02.445925Z",
     "iopub.status.idle": "2023-04-07T11:37:02.454380Z",
     "shell.execute_reply": "2023-04-07T11:37:02.452533Z"
    },
    "papermill": {
     "duration": 0.027658,
     "end_time": "2023-04-07T11:37:02.457193",
     "exception": false,
     "start_time": "2023-04-07T11:37:02.429535",
     "status": "completed"
    },
    "tags": []
   },
   "outputs": [],
   "source": [
    "# df.loc[((df['SibSp'] + df['Parch']) > 0), \"NEW_IS_ALONE\"] = \"NO\"\n",
    "# df.loc[((df['SibSp'] + df['Parch']) == 0), \"NEW_IS_ALONE\"] = \"YES\"\n",
    "\n",
    "# test_stat, pvalue = proportions_ztest(count=[df.loc[df[\"NEW_IS_ALONE\"] == \"YES\", \"Survived\"].sum(),\n",
    "#                                              df.loc[df[\"NEW_IS_ALONE\"] == \"NO\", \"Survived\"].sum()],\n",
    "\n",
    "#                                       nobs=[df.loc[df[\"NEW_IS_ALONE\"] == \"YES\", \"Survived\"].shape[0],\n",
    "#                                             df.loc[df[\"NEW_IS_ALONE\"] == \"NO\", \"Survived\"].shape[0]])\n",
    "\n",
    "# print('Test Stat = %.4f, p-value = %.4f' % (test_stat, pvalue))"
   ]
  },
  {
   "cell_type": "markdown",
   "id": "607a6152",
   "metadata": {
    "papermill": {
     "duration": 0.010249,
     "end_time": "2023-04-07T11:37:02.478027",
     "exception": false,
     "start_time": "2023-04-07T11:37:02.467778",
     "status": "completed"
    },
    "tags": []
   },
   "source": [
    "### Wordcount"
   ]
  },
  {
   "cell_type": "code",
   "execution_count": 27,
   "id": "d34c7fc2",
   "metadata": {
    "execution": {
     "iopub.execute_input": "2023-04-07T11:37:02.504241Z",
     "iopub.status.busy": "2023-04-07T11:37:02.503557Z",
     "iopub.status.idle": "2023-04-07T11:37:02.509207Z",
     "shell.execute_reply": "2023-04-07T11:37:02.506950Z"
    },
    "papermill": {
     "duration": 0.022997,
     "end_time": "2023-04-07T11:37:02.512326",
     "exception": false,
     "start_time": "2023-04-07T11:37:02.489329",
     "status": "completed"
    },
    "tags": []
   },
   "outputs": [],
   "source": [
    "# # Letter Count\n",
    "# ###################\n",
    "\n",
    "# df[\"NEW_NAME_COUNT\"] = df[\"Name\"].str.len()\n",
    "\n",
    "# ###################\n",
    "# # Word Count\n",
    "# ###################\n",
    "\n",
    "# df[\"NEW_NAME_WORD_COUNT\"] = df[\"Name\"].apply(lambda x: len(str(x).split(\" \")))"
   ]
  },
  {
   "cell_type": "markdown",
   "id": "108a04ce",
   "metadata": {
    "papermill": {
     "duration": 0.011989,
     "end_time": "2023-04-07T11:37:02.538490",
     "exception": false,
     "start_time": "2023-04-07T11:37:02.526501",
     "status": "completed"
    },
    "tags": []
   },
   "source": [
    "#### Extraction status(special letters) from name variable"
   ]
  },
  {
   "cell_type": "code",
   "execution_count": 28,
   "id": "928a05c9",
   "metadata": {
    "execution": {
     "iopub.execute_input": "2023-04-07T11:37:02.563150Z",
     "iopub.status.busy": "2023-04-07T11:37:02.562019Z",
     "iopub.status.idle": "2023-04-07T11:37:02.568059Z",
     "shell.execute_reply": "2023-04-07T11:37:02.566824Z"
    },
    "papermill": {
     "duration": 0.022027,
     "end_time": "2023-04-07T11:37:02.571605",
     "exception": false,
     "start_time": "2023-04-07T11:37:02.549578",
     "status": "completed"
    },
    "tags": []
   },
   "outputs": [],
   "source": [
    "# df['NEW_TITLE'] = df.Name.str.extract(' ([A-Za-z]+)\\.', expand=False)\n",
    "\n",
    "# df[[\"NEW_TITLE\", \"Survived\", \"Age\"]].groupby([\"NEW_TITLE\"]).agg({\"Survived\": \"mean\", \"Age\": [\"count\", \"mean\"]})"
   ]
  },
  {
   "cell_type": "markdown",
   "id": "c2d5f73c",
   "metadata": {
    "papermill": {
     "duration": 0.010882,
     "end_time": "2023-04-07T11:37:02.593457",
     "exception": false,
     "start_time": "2023-04-07T11:37:02.582575",
     "status": "completed"
    },
    "tags": []
   },
   "source": [
    "#### Date examples"
   ]
  },
  {
   "cell_type": "code",
   "execution_count": 29,
   "id": "47a9a058",
   "metadata": {
    "execution": {
     "iopub.execute_input": "2023-04-07T11:37:02.617101Z",
     "iopub.status.busy": "2023-04-07T11:37:02.616334Z",
     "iopub.status.idle": "2023-04-07T11:37:02.620824Z",
     "shell.execute_reply": "2023-04-07T11:37:02.620016Z"
    },
    "papermill": {
     "duration": 0.018877,
     "end_time": "2023-04-07T11:37:02.623495",
     "exception": false,
     "start_time": "2023-04-07T11:37:02.604618",
     "status": "completed"
    },
    "tags": []
   },
   "outputs": [],
   "source": [
    "# dff['Timestamp'] = pd.to_datetime(dff[\"Timestamp\"], format=\"%Y-%m-%d\")\n",
    "\n",
    "# # year\n",
    "# dff['year'] = dff['Timestamp'].dt.year\n",
    "\n",
    "# # month\n",
    "# dff['month'] = dff['Timestamp'].dt.month\n",
    "\n",
    "# # year diff\n",
    "# dff['year_diff'] = date.today().year - dff['Timestamp'].dt.year\n",
    "\n",
    "# # month diff (iki tarih arasındaki ay farkı): yıl farkı + ay farkı\n",
    "# dff['month_diff'] = (date.today().year - dff['Timestamp'].dt.year) * 12 + date.today().month - dff['Timestamp'].dt.month\n",
    "\n",
    "\n",
    "# # day name\n",
    "# dff['day_name'] = dff['Timestamp'].dt.day_name()"
   ]
  },
  {
   "cell_type": "markdown",
   "id": "fc11d798",
   "metadata": {
    "papermill": {
     "duration": 0.011566,
     "end_time": "2023-04-07T11:37:02.646915",
     "exception": false,
     "start_time": "2023-04-07T11:37:02.635349",
     "status": "completed"
    },
    "tags": []
   },
   "source": [
    "### Examples of extraction new variables from numeric variables titanic dataset"
   ]
  },
  {
   "cell_type": "code",
   "execution_count": 30,
   "id": "034ba6b7",
   "metadata": {
    "execution": {
     "iopub.execute_input": "2023-04-07T11:37:02.672318Z",
     "iopub.status.busy": "2023-04-07T11:37:02.670938Z",
     "iopub.status.idle": "2023-04-07T11:37:02.676625Z",
     "shell.execute_reply": "2023-04-07T11:37:02.675785Z"
    },
    "papermill": {
     "duration": 0.022183,
     "end_time": "2023-04-07T11:37:02.679369",
     "exception": false,
     "start_time": "2023-04-07T11:37:02.657186",
     "status": "completed"
    },
    "tags": []
   },
   "outputs": [],
   "source": [
    "# df[\"NEW_AGE_PCLASS\"] = df[\"Age\"] * df[\"Pclass\"] # bunun duzgun çalışması için yaş değişkenin standtartlaşmaya tabi tutulması gerekiyor imiş\n",
    "\n",
    "# df[\"NEW_FAMILY_SIZE\"] = df[\"SibSp\"] + df[\"Parch\"] + 1\n",
    "\n",
    "# df.loc[(df['SEX'] == 'male') & (df['Age'] <= 21), 'NEW_SEX_CAT'] = 'youngmale'\n",
    "\n",
    "# df.loc[(df['SEX'] == 'male') & (df['Age'] > 21) & (df['Age'] < 50), 'NEW_SEX_CAT'] = 'maturemale'\n",
    "\n",
    "# df.loc[(df['SEX'] == 'male') & (df['Age'] >= 50), 'NEW_SEX_CAT'] = 'seniormale'\n",
    "\n",
    "# df.loc[(df['SEX'] == 'female') & (df['Age'] <= 21), 'NEW_SEX_CAT'] = 'youngfemale'\n",
    "\n",
    "# df.loc[(df['SEX'] == 'female') & (df['Age'] > 21) & (df['Age'] < 50), 'NEW_SEX_CAT'] = 'maturefemale'\n",
    "\n",
    "# df.loc[(df['SEX'] == 'female') & (df['Age'] >= 50), 'NEW_SEX_CAT'] = 'seniorfemale'\n"
   ]
  },
  {
   "cell_type": "markdown",
   "id": "d80479a2",
   "metadata": {
    "papermill": {
     "duration": 0.0111,
     "end_time": "2023-04-07T11:37:02.701079",
     "exception": false,
     "start_time": "2023-04-07T11:37:02.689979",
     "status": "completed"
    },
    "tags": []
   },
   "source": [
    "# Relation of independent variables with dependent variable"
   ]
  },
  {
   "cell_type": "code",
   "execution_count": 31,
   "id": "9797814e",
   "metadata": {
    "execution": {
     "iopub.execute_input": "2023-04-07T11:37:02.725526Z",
     "iopub.status.busy": "2023-04-07T11:37:02.724662Z",
     "iopub.status.idle": "2023-04-07T11:37:02.732567Z",
     "shell.execute_reply": "2023-04-07T11:37:02.731692Z"
    },
    "papermill": {
     "duration": 0.022966,
     "end_time": "2023-04-07T11:37:02.735155",
     "exception": false,
     "start_time": "2023-04-07T11:37:02.712189",
     "status": "completed"
    },
    "tags": []
   },
   "outputs": [],
   "source": [
    "def plot_importance(model, features, save=False):\n",
    "    feature_imp = pd.DataFrame({'Value': model.feature_importances_, 'Feature': features.columns})\n",
    "    plt.figure(figsize=(10, 10))\n",
    "    sns.set(font_scale=1)\n",
    "    sns.barplot(x=\"Value\", y=\"Feature\", data=feature_imp.sort_values(by=\"Value\",\n",
    "                                                                      ascending=False)[0:len(X)])\n",
    "    plt.title('Features')\n",
    "    plt.tight_layout()\n",
    "    plt.show()\n",
    "    if save:\n",
    "        plt.savefig('importances.png')\n",
    "\n",
    "\n",
    "# plot_importance(rf_model, X_train)"
   ]
  }
 ],
 "metadata": {
  "kernelspec": {
   "display_name": "Python 3",
   "language": "python",
   "name": "python3"
  },
  "language_info": {
   "codemirror_mode": {
    "name": "ipython",
    "version": 3
   },
   "file_extension": ".py",
   "mimetype": "text/x-python",
   "name": "python",
   "nbconvert_exporter": "python",
   "pygments_lexer": "ipython3",
   "version": "3.7.12"
  },
  "papermill": {
   "default_parameters": {},
   "duration": 16.574395,
   "end_time": "2023-04-07T11:37:03.570581",
   "environment_variables": {},
   "exception": null,
   "input_path": "__notebook__.ipynb",
   "output_path": "__notebook__.ipynb",
   "parameters": {},
   "start_time": "2023-04-07T11:36:46.996186",
   "version": "2.4.0"
  }
 },
 "nbformat": 4,
 "nbformat_minor": 5
}
